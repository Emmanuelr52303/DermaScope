{
 "cells": [
  {
   "cell_type": "markdown",
   "metadata": {
    "id": "0qOtnWYEYU4N"
   },
   "source": [
    "# Data Exploration"
   ]
  },
  {
   "cell_type": "code",
   "execution_count": 1,
   "metadata": {
    "id": "hJ7NnATXSl6c"
   },
   "outputs": [],
   "source": [
    "# Load libraries\r\n",
    "import pandas as pd\r\n",
    "import matplotlib.pyplot as plt\r\n",
    "import seaborn as sns\r\n",
    "import os"
   ]
  },
  {
   "cell_type": "code",
   "execution_count": 2,
   "metadata": {
    "id": "8tnZM7xgOcZE"
   },
   "outputs": [],
   "source": [
    "## Change working Directory \r\n",
    "os.chdir('../')\r\n",
    "# Read 2020 Competition CSV\r\n",
    "sample_submission_df_2020 = pd.read_csv(\"./Data/Raw CSV's/2020/sample_submission.csv\")\r\n",
    "test_df_2020  = pd.read_csv(\"./Data/Raw CSV's/2020/test.csv\")\r\n",
    "train_df_2020  = pd.read_csv(\"./Data/Raw CSV's/2020/train.csv\")"
   ]
  },
  {
   "cell_type": "code",
   "execution_count": 3,
   "metadata": {
    "id": "XBRdCJlLKSrj"
   },
   "outputs": [],
   "source": [
    "# Read 2019 Competition CSV\r\n",
    "train_ground_truth_df_2019 = pd.read_csv(\"./Data/Raw CSV's/2019/ISIC_2019_Training_GroundTruth.csv\")\r\n",
    "test_df_2019  = pd.read_csv(\"./Data/Raw CSV's/2019/Patient MetaData/ISIC_2019_Test_Metadata.csv\")\r\n",
    "train_df_2019  = pd.read_csv(\"./Data/Raw CSV's/2019/Patient MetaData/ISIC_2019_Training_Metadata.csv\")"
   ]
  },
  {
   "cell_type": "code",
   "execution_count": 4,
   "metadata": {
    "id": "vhZHxYKBKsac"
   },
   "outputs": [],
   "source": [
    "# Read 2018 Competition CSV\r\n",
    "train_ground_truth_df_2018 = pd.read_csv(\"./Data/Raw CSV's/2018/Training/ISIC2018_Task3_Training_GroundTruth.csv\")\r\n",
    "validation_ground_truth_df_2018 = pd.read_csv(\"./Data/Raw CSV's/2018/Validation/ISIC2018_Task3_Validation_GroundTruth.csv\")\r\n",
    "train_df_2018 = pd.read_csv(\"./Data/Raw CSV's/2018/ISIC2018_Task3_Training_LesionGroupings.csv\")"
   ]
  },
  {
   "cell_type": "markdown",
   "metadata": {},
   "source": [
    "# Processed CSV Files Data:"
   ]
  },
  {
   "cell_type": "code",
   "execution_count": 5,
   "metadata": {},
   "outputs": [],
   "source": [
    "Processed_2018to2020_df = pd.read_csv(\"./Data/Processed CSV's/train_2020_and_2019_with_9_Labels.csv\")\r\n",
    "Processed_withDetails_df = pd.read_csv(\"./Data/Processed CSV's/train_2020_and_2019_withPateintDetail_9_labels.csv\")"
   ]
  },
  {
   "cell_type": "code",
   "execution_count": 6,
   "metadata": {
    "colab": {
     "base_uri": "https://localhost:8080/"
    },
    "executionInfo": {
     "elapsed": 698,
     "status": "ok",
     "timestamp": 1618104408676,
     "user": {
      "displayName": "Yogesh Krishnakumar",
      "photoUrl": "",
      "userId": "03558106256612266348"
     },
     "user_tz": -600
    },
    "id": "5Lqu4UH_O-8D",
    "outputId": "7874dcf9-8183-4278-dcea-c6386b3ce8e3"
   },
   "outputs": [
    {
     "name": "stdout",
     "output_type": "stream",
     "text": [
      "For 2020 RAW Data\n",
      "(10982, 2)\n",
      "(10982, 5)\n",
      "(33126, 8)\n",
      "\n",
      "\n",
      "For 2019 RAW Data\n",
      "(25331, 10)\n",
      "(8238, 4)\n",
      "(25331, 5)\n",
      "\n",
      "\n",
      "For 2018 RAW Data\n",
      "(10015, 8)\n",
      "(193, 8)\n",
      "(10015, 3)\n"
     ]
    }
   ],
   "source": [
    "# Get DF Shape\r\n",
    "print(\"For 2020 RAW Data\")\r\n",
    "print(sample_submission_df_2020.shape)\r\n",
    "print(test_df_2020.shape)\r\n",
    "print(train_df_2020.shape)\r\n",
    "print('\\n')\r\n",
    "\r\n",
    "print(\"For 2019 RAW Data\")\r\n",
    "print(train_ground_truth_df_2019.shape)\r\n",
    "print(test_df_2019.shape)\r\n",
    "print(train_df_2019.shape)\r\n",
    "print('\\n')\r\n",
    "\r\n",
    "print(\"For 2018 RAW Data\")\r\n",
    "print(train_ground_truth_df_2018.shape)\r\n",
    "print(validation_ground_truth_df_2018.shape)\r\n",
    "print(train_df_2018.shape)"
   ]
  },
  {
   "cell_type": "code",
   "execution_count": 7,
   "metadata": {
    "colab": {
     "base_uri": "https://localhost:8080/"
    },
    "executionInfo": {
     "elapsed": 1360,
     "status": "ok",
     "timestamp": 1618104421062,
     "user": {
      "displayName": "Yogesh Krishnakumar",
      "photoUrl": "",
      "userId": "03558106256612266348"
     },
     "user_tz": -600
    },
    "id": "ITET9Pmam2Jq",
    "outputId": "6f9358bf-9763-4983-9031-3446b3e69b4d"
   },
   "outputs": [
    {
     "name": "stdout",
     "output_type": "stream",
     "text": [
      "<class 'pandas.core.frame.DataFrame'>\n",
      "RangeIndex: 10982 entries, 0 to 10981\n",
      "Data columns (total 5 columns):\n",
      " #   Column                         Non-Null Count  Dtype  \n",
      "---  ------                         --------------  -----  \n",
      " 0   image_name                     10982 non-null  object \n",
      " 1   patient_id                     10982 non-null  object \n",
      " 2   sex                            10982 non-null  object \n",
      " 3   age_approx                     10982 non-null  float64\n",
      " 4   anatom_site_general_challenge  10631 non-null  object \n",
      "dtypes: float64(1), object(4)\n",
      "memory usage: 429.1+ KB\n",
      "None\n",
      "\n",
      "\n",
      "<class 'pandas.core.frame.DataFrame'>\n",
      "RangeIndex: 33126 entries, 0 to 33125\n",
      "Data columns (total 8 columns):\n",
      " #   Column                         Non-Null Count  Dtype  \n",
      "---  ------                         --------------  -----  \n",
      " 0   image_name                     33126 non-null  object \n",
      " 1   patient_id                     33126 non-null  object \n",
      " 2   sex                            33061 non-null  object \n",
      " 3   age_approx                     33058 non-null  float64\n",
      " 4   anatom_site_general_challenge  32599 non-null  object \n",
      " 5   diagnosis                      33126 non-null  object \n",
      " 6   benign_malignant               33126 non-null  object \n",
      " 7   target                         33126 non-null  int64  \n",
      "dtypes: float64(1), int64(1), object(6)\n",
      "memory usage: 2.0+ MB\n",
      "None\n",
      "\n",
      "\n",
      "<class 'pandas.core.frame.DataFrame'>\n",
      "RangeIndex: 8238 entries, 0 to 8237\n",
      "Data columns (total 4 columns):\n",
      " #   Column               Non-Null Count  Dtype  \n",
      "---  ------               --------------  -----  \n",
      " 0   image                8238 non-null   object \n",
      " 1   age_approx           7912 non-null   float64\n",
      " 2   anatom_site_general  7583 non-null   object \n",
      " 3   sex                  7899 non-null   object \n",
      "dtypes: float64(1), object(3)\n",
      "memory usage: 257.6+ KB\n",
      "None\n",
      "\n",
      "\n",
      "<class 'pandas.core.frame.DataFrame'>\n",
      "RangeIndex: 25331 entries, 0 to 25330\n",
      "Data columns (total 5 columns):\n",
      " #   Column               Non-Null Count  Dtype  \n",
      "---  ------               --------------  -----  \n",
      " 0   image                25331 non-null  object \n",
      " 1   age_approx           24894 non-null  float64\n",
      " 2   anatom_site_general  22700 non-null  object \n",
      " 3   lesion_id            23247 non-null  object \n",
      " 4   sex                  24947 non-null  object \n",
      "dtypes: float64(1), object(4)\n",
      "memory usage: 989.6+ KB\n",
      "None\n",
      "\n",
      "\n",
      "<class 'pandas.core.frame.DataFrame'>\n",
      "RangeIndex: 25331 entries, 0 to 25330\n",
      "Data columns (total 10 columns):\n",
      " #   Column  Non-Null Count  Dtype  \n",
      "---  ------  --------------  -----  \n",
      " 0   image   25331 non-null  object \n",
      " 1   MEL     25331 non-null  float64\n",
      " 2   NV      25331 non-null  float64\n",
      " 3   BCC     25331 non-null  float64\n",
      " 4   AK      25331 non-null  float64\n",
      " 5   BKL     25331 non-null  float64\n",
      " 6   DF      25331 non-null  float64\n",
      " 7   VASC    25331 non-null  float64\n",
      " 8   SCC     25331 non-null  float64\n",
      " 9   UNK     25331 non-null  float64\n",
      "dtypes: float64(9), object(1)\n",
      "memory usage: 1.9+ MB\n",
      "None\n",
      "\n",
      "\n",
      "<class 'pandas.core.frame.DataFrame'>\n",
      "RangeIndex: 10015 entries, 0 to 10014\n",
      "Data columns (total 3 columns):\n",
      " #   Column                  Non-Null Count  Dtype \n",
      "---  ------                  --------------  ----- \n",
      " 0   image                   10015 non-null  object\n",
      " 1   lesion_id               10015 non-null  object\n",
      " 2   diagnosis_confirm_type  10015 non-null  object\n",
      "dtypes: object(3)\n",
      "memory usage: 234.9+ KB\n",
      "None\n",
      "\n",
      "\n",
      "<class 'pandas.core.frame.DataFrame'>\n",
      "RangeIndex: 10015 entries, 0 to 10014\n",
      "Data columns (total 8 columns):\n",
      " #   Column  Non-Null Count  Dtype  \n",
      "---  ------  --------------  -----  \n",
      " 0   image   10015 non-null  object \n",
      " 1   MEL     10015 non-null  float64\n",
      " 2   NV      10015 non-null  float64\n",
      " 3   BCC     10015 non-null  float64\n",
      " 4   AKIEC   10015 non-null  float64\n",
      " 5   BKL     10015 non-null  float64\n",
      " 6   DF      10015 non-null  float64\n",
      " 7   VASC    10015 non-null  float64\n",
      "dtypes: float64(7), object(1)\n",
      "memory usage: 626.1+ KB\n",
      "None\n",
      "\n",
      "\n",
      "<class 'pandas.core.frame.DataFrame'>\n",
      "RangeIndex: 193 entries, 0 to 192\n",
      "Data columns (total 8 columns):\n",
      " #   Column  Non-Null Count  Dtype  \n",
      "---  ------  --------------  -----  \n",
      " 0   image   193 non-null    object \n",
      " 1   MEL     193 non-null    float64\n",
      " 2   NV      193 non-null    float64\n",
      " 3   BCC     193 non-null    float64\n",
      " 4   AKIEC   193 non-null    float64\n",
      " 5   BKL     193 non-null    float64\n",
      " 6   DF      193 non-null    float64\n",
      " 7   VASC    193 non-null    float64\n",
      "dtypes: float64(7), object(1)\n",
      "memory usage: 12.2+ KB\n",
      "None\n",
      "\n",
      "\n"
     ]
    }
   ],
   "source": [
    "files= [test_df_2020, train_df_2020,\r\n",
    "        test_df_2019, train_df_2019, train_ground_truth_df_2019, \r\n",
    "        train_df_2018, train_ground_truth_df_2018, validation_ground_truth_df_2018]\r\n",
    "        \r\n",
    "for df in files:\r\n",
    "  print(df.info())\r\n",
    "  print('\\n')"
   ]
  },
  {
   "cell_type": "code",
   "execution_count": 8,
   "metadata": {
    "colab": {
     "base_uri": "https://localhost:8080/"
    },
    "executionInfo": {
     "elapsed": 643,
     "status": "ok",
     "timestamp": 1618104425749,
     "user": {
      "displayName": "Yogesh Krishnakumar",
      "photoUrl": "",
      "userId": "03558106256612266348"
     },
     "user_tz": -600
    },
    "id": "yttDsrwjnDOa",
    "outputId": "1b0f18e4-3039-488d-8092-7f7bb81b4a14"
   },
   "outputs": [
    {
     "name": "stdout",
     "output_type": "stream",
     "text": [
      "2020 Raw DataSet\n",
      "Total images in Train set 2020:  33126\n",
      "Total images in Test set 2020:  10982\n",
      "\n",
      "2019 Raw DataSet\n",
      "Total images in Train set 2019:  25331\n",
      "Total images in Train Ground_truth set 2019:  25331\n",
      "Total images in Test set 2019:  8238\n",
      "\n",
      "2018 Raw DataSet\n",
      "Total images in Train set 2018:  10015\n",
      "Total images in Train Ground_truth set 2018:  10015\n",
      "Total images in Validation set Ground Truth set 2019:  193\n"
     ]
    }
   ],
   "source": [
    "# Total number of images in the dataset(train&test)\n",
    "print('2020 Raw DataSet')\n",
    "print(\"Total images in Train set 2020: \",train_df_2020['image_name'].count())\n",
    "print(\"Total images in Test set 2020: \",test_df_2020['image_name'].count())\n",
    "\n",
    "print('\\n2019 Raw DataSet')\n",
    "print(\"Total images in Train set 2019: \",train_df_2019['image'].count())\n",
    "print(\"Total images in Train Ground_truth set 2019: \",train_ground_truth_df_2019['image'].count())\n",
    "print(\"Total images in Test set 2019: \",test_df_2019['image'].count())\n",
    "\n",
    "print('\\n2018 Raw DataSet')\n",
    "print(\"Total images in Train set 2018: \",train_df_2018['image'].count())\n",
    "print(\"Total images in Train Ground_truth set 2018: \",train_ground_truth_df_2018['image'].count())\n",
    "print(\"Total images in Validation set Ground Truth set 2019: \",validation_ground_truth_df_2018['image'].count())"
   ]
  },
  {
   "cell_type": "code",
   "execution_count": 9,
   "metadata": {
    "colab": {
     "base_uri": "https://localhost:8080/",
     "height": 212
    },
    "executionInfo": {
     "elapsed": 722,
     "status": "ok",
     "timestamp": 1618104430000,
     "user": {
      "displayName": "Yogesh Krishnakumar",
      "photoUrl": "",
      "userId": "03558106256612266348"
     },
     "user_tz": -600
    },
    "id": "rAi_A4OIQYpN",
    "outputId": "6548e08f-93ee-4a35-d381-3d4660b238be"
   },
   "outputs": [
    {
     "name": "stdout",
     "output_type": "stream",
     "text": [
      "Test Data Set Sample\n"
     ]
    },
    {
     "data": {
      "text/html": [
       "<div>\n",
       "<style scoped>\n",
       "    .dataframe tbody tr th:only-of-type {\n",
       "        vertical-align: middle;\n",
       "    }\n",
       "\n",
       "    .dataframe tbody tr th {\n",
       "        vertical-align: top;\n",
       "    }\n",
       "\n",
       "    .dataframe thead th {\n",
       "        text-align: right;\n",
       "    }\n",
       "</style>\n",
       "<table border=\"1\" class=\"dataframe\">\n",
       "  <thead>\n",
       "    <tr style=\"text-align: right;\">\n",
       "      <th></th>\n",
       "      <th>image_name</th>\n",
       "      <th>patient_id</th>\n",
       "      <th>sex</th>\n",
       "      <th>age_approx</th>\n",
       "      <th>anatom_site_general_challenge</th>\n",
       "      <th>diagnosis</th>\n",
       "      <th>benign_malignant</th>\n",
       "      <th>target</th>\n",
       "    </tr>\n",
       "  </thead>\n",
       "  <tbody>\n",
       "    <tr>\n",
       "      <th>0</th>\n",
       "      <td>ISIC_2637011</td>\n",
       "      <td>IP_7279968</td>\n",
       "      <td>male</td>\n",
       "      <td>45.0</td>\n",
       "      <td>head/neck</td>\n",
       "      <td>unknown</td>\n",
       "      <td>benign</td>\n",
       "      <td>0</td>\n",
       "    </tr>\n",
       "    <tr>\n",
       "      <th>1</th>\n",
       "      <td>ISIC_0015719</td>\n",
       "      <td>IP_3075186</td>\n",
       "      <td>female</td>\n",
       "      <td>45.0</td>\n",
       "      <td>upper extremity</td>\n",
       "      <td>unknown</td>\n",
       "      <td>benign</td>\n",
       "      <td>0</td>\n",
       "    </tr>\n",
       "    <tr>\n",
       "      <th>2</th>\n",
       "      <td>ISIC_0052212</td>\n",
       "      <td>IP_2842074</td>\n",
       "      <td>female</td>\n",
       "      <td>50.0</td>\n",
       "      <td>lower extremity</td>\n",
       "      <td>nevus</td>\n",
       "      <td>benign</td>\n",
       "      <td>0</td>\n",
       "    </tr>\n",
       "    <tr>\n",
       "      <th>3</th>\n",
       "      <td>ISIC_0068279</td>\n",
       "      <td>IP_6890425</td>\n",
       "      <td>female</td>\n",
       "      <td>45.0</td>\n",
       "      <td>head/neck</td>\n",
       "      <td>unknown</td>\n",
       "      <td>benign</td>\n",
       "      <td>0</td>\n",
       "    </tr>\n",
       "    <tr>\n",
       "      <th>4</th>\n",
       "      <td>ISIC_0074268</td>\n",
       "      <td>IP_8723313</td>\n",
       "      <td>female</td>\n",
       "      <td>55.0</td>\n",
       "      <td>upper extremity</td>\n",
       "      <td>unknown</td>\n",
       "      <td>benign</td>\n",
       "      <td>0</td>\n",
       "    </tr>\n",
       "  </tbody>\n",
       "</table>\n",
       "</div>"
      ],
      "text/plain": [
       "     image_name  patient_id     sex  age_approx anatom_site_general_challenge  \\\n",
       "0  ISIC_2637011  IP_7279968    male        45.0                     head/neck   \n",
       "1  ISIC_0015719  IP_3075186  female        45.0               upper extremity   \n",
       "2  ISIC_0052212  IP_2842074  female        50.0               lower extremity   \n",
       "3  ISIC_0068279  IP_6890425  female        45.0                     head/neck   \n",
       "4  ISIC_0074268  IP_8723313  female        55.0               upper extremity   \n",
       "\n",
       "  diagnosis benign_malignant  target  \n",
       "0   unknown           benign       0  \n",
       "1   unknown           benign       0  \n",
       "2     nevus           benign       0  \n",
       "3   unknown           benign       0  \n",
       "4   unknown           benign       0  "
      ]
     },
     "execution_count": 9,
     "metadata": {},
     "output_type": "execute_result"
    }
   ],
   "source": [
    "print('Test Data Set Sample')\r\n",
    "train_df_2020.head()"
   ]
  },
  {
   "cell_type": "code",
   "execution_count": 10,
   "metadata": {
    "colab": {
     "base_uri": "https://localhost:8080/",
     "height": 212
    },
    "executionInfo": {
     "elapsed": 380,
     "status": "ok",
     "timestamp": 1618104431952,
     "user": {
      "displayName": "Yogesh Krishnakumar",
      "photoUrl": "",
      "userId": "03558106256612266348"
     },
     "user_tz": -600
    },
    "id": "Wy0Ay6D4Qay6",
    "outputId": "8c0cc106-fbea-4d35-d7b8-43555a6e7c16"
   },
   "outputs": [
    {
     "name": "stdout",
     "output_type": "stream",
     "text": [
      "Train Data Set Sample\n"
     ]
    },
    {
     "data": {
      "text/html": [
       "<div>\n",
       "<style scoped>\n",
       "    .dataframe tbody tr th:only-of-type {\n",
       "        vertical-align: middle;\n",
       "    }\n",
       "\n",
       "    .dataframe tbody tr th {\n",
       "        vertical-align: top;\n",
       "    }\n",
       "\n",
       "    .dataframe thead th {\n",
       "        text-align: right;\n",
       "    }\n",
       "</style>\n",
       "<table border=\"1\" class=\"dataframe\">\n",
       "  <thead>\n",
       "    <tr style=\"text-align: right;\">\n",
       "      <th></th>\n",
       "      <th>image_name</th>\n",
       "      <th>patient_id</th>\n",
       "      <th>sex</th>\n",
       "      <th>age_approx</th>\n",
       "      <th>anatom_site_general_challenge</th>\n",
       "    </tr>\n",
       "  </thead>\n",
       "  <tbody>\n",
       "    <tr>\n",
       "      <th>0</th>\n",
       "      <td>ISIC_0052060</td>\n",
       "      <td>IP_3579794</td>\n",
       "      <td>male</td>\n",
       "      <td>70.0</td>\n",
       "      <td>NaN</td>\n",
       "    </tr>\n",
       "    <tr>\n",
       "      <th>1</th>\n",
       "      <td>ISIC_0052349</td>\n",
       "      <td>IP_7782715</td>\n",
       "      <td>male</td>\n",
       "      <td>40.0</td>\n",
       "      <td>lower extremity</td>\n",
       "    </tr>\n",
       "    <tr>\n",
       "      <th>2</th>\n",
       "      <td>ISIC_0058510</td>\n",
       "      <td>IP_7960270</td>\n",
       "      <td>female</td>\n",
       "      <td>55.0</td>\n",
       "      <td>torso</td>\n",
       "    </tr>\n",
       "    <tr>\n",
       "      <th>3</th>\n",
       "      <td>ISIC_0073313</td>\n",
       "      <td>IP_6375035</td>\n",
       "      <td>female</td>\n",
       "      <td>50.0</td>\n",
       "      <td>torso</td>\n",
       "    </tr>\n",
       "    <tr>\n",
       "      <th>4</th>\n",
       "      <td>ISIC_0073502</td>\n",
       "      <td>IP_0589375</td>\n",
       "      <td>female</td>\n",
       "      <td>45.0</td>\n",
       "      <td>lower extremity</td>\n",
       "    </tr>\n",
       "  </tbody>\n",
       "</table>\n",
       "</div>"
      ],
      "text/plain": [
       "     image_name  patient_id     sex  age_approx anatom_site_general_challenge\n",
       "0  ISIC_0052060  IP_3579794    male        70.0                           NaN\n",
       "1  ISIC_0052349  IP_7782715    male        40.0               lower extremity\n",
       "2  ISIC_0058510  IP_7960270  female        55.0                         torso\n",
       "3  ISIC_0073313  IP_6375035  female        50.0                         torso\n",
       "4  ISIC_0073502  IP_0589375  female        45.0               lower extremity"
      ]
     },
     "execution_count": 10,
     "metadata": {},
     "output_type": "execute_result"
    }
   ],
   "source": [
    "print('Train Data Set Sample')\r\n",
    "test_df_2020.head()"
   ]
  },
  {
   "cell_type": "markdown",
   "metadata": {
    "id": "nSkpdGQkmnyh"
   },
   "source": [
    "# NULL values"
   ]
  },
  {
   "cell_type": "code",
   "execution_count": 11,
   "metadata": {
    "colab": {
     "base_uri": "https://localhost:8080/",
     "height": 1000
    },
    "executionInfo": {
     "elapsed": 582,
     "status": "ok",
     "timestamp": 1618104434990,
     "user": {
      "displayName": "Yogesh Krishnakumar",
      "photoUrl": "",
      "userId": "03558106256612266348"
     },
     "user_tz": -600
    },
    "id": "zGP_xP_Ymeca",
    "outputId": "e16f82b9-bcc5-40c5-ed30-5397a873fad2"
   },
   "outputs": [
    {
     "name": "stdout",
     "output_type": "stream",
     "text": [
      "Train set 2020 RAW missing values\n"
     ]
    },
    {
     "data": {
      "text/html": [
       "<div>\n",
       "<style scoped>\n",
       "    .dataframe tbody tr th:only-of-type {\n",
       "        vertical-align: middle;\n",
       "    }\n",
       "\n",
       "    .dataframe tbody tr th {\n",
       "        vertical-align: top;\n",
       "    }\n",
       "\n",
       "    .dataframe thead th {\n",
       "        text-align: right;\n",
       "    }\n",
       "</style>\n",
       "<table border=\"1\" class=\"dataframe\">\n",
       "  <thead>\n",
       "    <tr style=\"text-align: right;\">\n",
       "      <th></th>\n",
       "      <th>Null count</th>\n",
       "    </tr>\n",
       "  </thead>\n",
       "  <tbody>\n",
       "    <tr>\n",
       "      <th>image_name</th>\n",
       "      <td>0</td>\n",
       "    </tr>\n",
       "    <tr>\n",
       "      <th>patient_id</th>\n",
       "      <td>0</td>\n",
       "    </tr>\n",
       "    <tr>\n",
       "      <th>sex</th>\n",
       "      <td>65</td>\n",
       "    </tr>\n",
       "    <tr>\n",
       "      <th>age_approx</th>\n",
       "      <td>68</td>\n",
       "    </tr>\n",
       "    <tr>\n",
       "      <th>anatom_site_general_challenge</th>\n",
       "      <td>527</td>\n",
       "    </tr>\n",
       "    <tr>\n",
       "      <th>diagnosis</th>\n",
       "      <td>0</td>\n",
       "    </tr>\n",
       "    <tr>\n",
       "      <th>benign_malignant</th>\n",
       "      <td>0</td>\n",
       "    </tr>\n",
       "    <tr>\n",
       "      <th>target</th>\n",
       "      <td>0</td>\n",
       "    </tr>\n",
       "  </tbody>\n",
       "</table>\n",
       "</div>"
      ],
      "text/plain": [
       "                               Null count\n",
       "image_name                              0\n",
       "patient_id                              0\n",
       "sex                                    65\n",
       "age_approx                             68\n",
       "anatom_site_general_challenge         527\n",
       "diagnosis                               0\n",
       "benign_malignant                        0\n",
       "target                                  0"
      ]
     },
     "metadata": {},
     "output_type": "display_data"
    },
    {
     "name": "stdout",
     "output_type": "stream",
     "text": [
      "Test set 2020 RAW missing values\n"
     ]
    },
    {
     "data": {
      "text/html": [
       "<div>\n",
       "<style scoped>\n",
       "    .dataframe tbody tr th:only-of-type {\n",
       "        vertical-align: middle;\n",
       "    }\n",
       "\n",
       "    .dataframe tbody tr th {\n",
       "        vertical-align: top;\n",
       "    }\n",
       "\n",
       "    .dataframe thead th {\n",
       "        text-align: right;\n",
       "    }\n",
       "</style>\n",
       "<table border=\"1\" class=\"dataframe\">\n",
       "  <thead>\n",
       "    <tr style=\"text-align: right;\">\n",
       "      <th></th>\n",
       "      <th>Null count</th>\n",
       "    </tr>\n",
       "  </thead>\n",
       "  <tbody>\n",
       "    <tr>\n",
       "      <th>image_name</th>\n",
       "      <td>0</td>\n",
       "    </tr>\n",
       "    <tr>\n",
       "      <th>patient_id</th>\n",
       "      <td>0</td>\n",
       "    </tr>\n",
       "    <tr>\n",
       "      <th>sex</th>\n",
       "      <td>0</td>\n",
       "    </tr>\n",
       "    <tr>\n",
       "      <th>age_approx</th>\n",
       "      <td>0</td>\n",
       "    </tr>\n",
       "    <tr>\n",
       "      <th>anatom_site_general_challenge</th>\n",
       "      <td>351</td>\n",
       "    </tr>\n",
       "  </tbody>\n",
       "</table>\n",
       "</div>"
      ],
      "text/plain": [
       "                               Null count\n",
       "image_name                              0\n",
       "patient_id                              0\n",
       "sex                                     0\n",
       "age_approx                              0\n",
       "anatom_site_general_challenge         351"
      ]
     },
     "metadata": {},
     "output_type": "display_data"
    },
    {
     "name": "stdout",
     "output_type": "stream",
     "text": [
      "\n",
      "\n",
      "Train set 2019 RAW missing values\n"
     ]
    },
    {
     "data": {
      "text/html": [
       "<div>\n",
       "<style scoped>\n",
       "    .dataframe tbody tr th:only-of-type {\n",
       "        vertical-align: middle;\n",
       "    }\n",
       "\n",
       "    .dataframe tbody tr th {\n",
       "        vertical-align: top;\n",
       "    }\n",
       "\n",
       "    .dataframe thead th {\n",
       "        text-align: right;\n",
       "    }\n",
       "</style>\n",
       "<table border=\"1\" class=\"dataframe\">\n",
       "  <thead>\n",
       "    <tr style=\"text-align: right;\">\n",
       "      <th></th>\n",
       "      <th>Null count</th>\n",
       "    </tr>\n",
       "  </thead>\n",
       "  <tbody>\n",
       "    <tr>\n",
       "      <th>image</th>\n",
       "      <td>0</td>\n",
       "    </tr>\n",
       "    <tr>\n",
       "      <th>age_approx</th>\n",
       "      <td>437</td>\n",
       "    </tr>\n",
       "    <tr>\n",
       "      <th>anatom_site_general</th>\n",
       "      <td>2631</td>\n",
       "    </tr>\n",
       "    <tr>\n",
       "      <th>lesion_id</th>\n",
       "      <td>2084</td>\n",
       "    </tr>\n",
       "    <tr>\n",
       "      <th>sex</th>\n",
       "      <td>384</td>\n",
       "    </tr>\n",
       "  </tbody>\n",
       "</table>\n",
       "</div>"
      ],
      "text/plain": [
       "                     Null count\n",
       "image                         0\n",
       "age_approx                  437\n",
       "anatom_site_general        2631\n",
       "lesion_id                  2084\n",
       "sex                         384"
      ]
     },
     "metadata": {},
     "output_type": "display_data"
    },
    {
     "name": "stdout",
     "output_type": "stream",
     "text": [
      "Train Ground Truth set 2019 RAW missing values\n"
     ]
    },
    {
     "data": {
      "text/html": [
       "<div>\n",
       "<style scoped>\n",
       "    .dataframe tbody tr th:only-of-type {\n",
       "        vertical-align: middle;\n",
       "    }\n",
       "\n",
       "    .dataframe tbody tr th {\n",
       "        vertical-align: top;\n",
       "    }\n",
       "\n",
       "    .dataframe thead th {\n",
       "        text-align: right;\n",
       "    }\n",
       "</style>\n",
       "<table border=\"1\" class=\"dataframe\">\n",
       "  <thead>\n",
       "    <tr style=\"text-align: right;\">\n",
       "      <th></th>\n",
       "      <th>Null count</th>\n",
       "    </tr>\n",
       "  </thead>\n",
       "  <tbody>\n",
       "    <tr>\n",
       "      <th>image</th>\n",
       "      <td>0</td>\n",
       "    </tr>\n",
       "    <tr>\n",
       "      <th>MEL</th>\n",
       "      <td>0</td>\n",
       "    </tr>\n",
       "    <tr>\n",
       "      <th>NV</th>\n",
       "      <td>0</td>\n",
       "    </tr>\n",
       "    <tr>\n",
       "      <th>BCC</th>\n",
       "      <td>0</td>\n",
       "    </tr>\n",
       "    <tr>\n",
       "      <th>AK</th>\n",
       "      <td>0</td>\n",
       "    </tr>\n",
       "    <tr>\n",
       "      <th>BKL</th>\n",
       "      <td>0</td>\n",
       "    </tr>\n",
       "    <tr>\n",
       "      <th>DF</th>\n",
       "      <td>0</td>\n",
       "    </tr>\n",
       "    <tr>\n",
       "      <th>VASC</th>\n",
       "      <td>0</td>\n",
       "    </tr>\n",
       "    <tr>\n",
       "      <th>SCC</th>\n",
       "      <td>0</td>\n",
       "    </tr>\n",
       "    <tr>\n",
       "      <th>UNK</th>\n",
       "      <td>0</td>\n",
       "    </tr>\n",
       "  </tbody>\n",
       "</table>\n",
       "</div>"
      ],
      "text/plain": [
       "       Null count\n",
       "image           0\n",
       "MEL             0\n",
       "NV              0\n",
       "BCC             0\n",
       "AK              0\n",
       "BKL             0\n",
       "DF              0\n",
       "VASC            0\n",
       "SCC             0\n",
       "UNK             0"
      ]
     },
     "metadata": {},
     "output_type": "display_data"
    },
    {
     "name": "stdout",
     "output_type": "stream",
     "text": [
      "Test set 2019 RAW missing values\n"
     ]
    },
    {
     "data": {
      "text/html": [
       "<div>\n",
       "<style scoped>\n",
       "    .dataframe tbody tr th:only-of-type {\n",
       "        vertical-align: middle;\n",
       "    }\n",
       "\n",
       "    .dataframe tbody tr th {\n",
       "        vertical-align: top;\n",
       "    }\n",
       "\n",
       "    .dataframe thead th {\n",
       "        text-align: right;\n",
       "    }\n",
       "</style>\n",
       "<table border=\"1\" class=\"dataframe\">\n",
       "  <thead>\n",
       "    <tr style=\"text-align: right;\">\n",
       "      <th></th>\n",
       "      <th>Null count</th>\n",
       "    </tr>\n",
       "  </thead>\n",
       "  <tbody>\n",
       "    <tr>\n",
       "      <th>image</th>\n",
       "      <td>0</td>\n",
       "    </tr>\n",
       "    <tr>\n",
       "      <th>age_approx</th>\n",
       "      <td>326</td>\n",
       "    </tr>\n",
       "    <tr>\n",
       "      <th>anatom_site_general</th>\n",
       "      <td>655</td>\n",
       "    </tr>\n",
       "    <tr>\n",
       "      <th>sex</th>\n",
       "      <td>339</td>\n",
       "    </tr>\n",
       "  </tbody>\n",
       "</table>\n",
       "</div>"
      ],
      "text/plain": [
       "                     Null count\n",
       "image                         0\n",
       "age_approx                  326\n",
       "anatom_site_general         655\n",
       "sex                         339"
      ]
     },
     "metadata": {},
     "output_type": "display_data"
    },
    {
     "name": "stdout",
     "output_type": "stream",
     "text": [
      "\n",
      "\n",
      "Train set 2018 RAW missing values\n"
     ]
    },
    {
     "data": {
      "text/html": [
       "<div>\n",
       "<style scoped>\n",
       "    .dataframe tbody tr th:only-of-type {\n",
       "        vertical-align: middle;\n",
       "    }\n",
       "\n",
       "    .dataframe tbody tr th {\n",
       "        vertical-align: top;\n",
       "    }\n",
       "\n",
       "    .dataframe thead th {\n",
       "        text-align: right;\n",
       "    }\n",
       "</style>\n",
       "<table border=\"1\" class=\"dataframe\">\n",
       "  <thead>\n",
       "    <tr style=\"text-align: right;\">\n",
       "      <th></th>\n",
       "      <th>Null count</th>\n",
       "    </tr>\n",
       "  </thead>\n",
       "  <tbody>\n",
       "    <tr>\n",
       "      <th>image</th>\n",
       "      <td>0</td>\n",
       "    </tr>\n",
       "    <tr>\n",
       "      <th>lesion_id</th>\n",
       "      <td>0</td>\n",
       "    </tr>\n",
       "    <tr>\n",
       "      <th>diagnosis_confirm_type</th>\n",
       "      <td>0</td>\n",
       "    </tr>\n",
       "  </tbody>\n",
       "</table>\n",
       "</div>"
      ],
      "text/plain": [
       "                        Null count\n",
       "image                            0\n",
       "lesion_id                        0\n",
       "diagnosis_confirm_type           0"
      ]
     },
     "metadata": {},
     "output_type": "display_data"
    },
    {
     "name": "stdout",
     "output_type": "stream",
     "text": [
      "Train Ground Truth set 2018 RAW missing values\n"
     ]
    },
    {
     "data": {
      "text/html": [
       "<div>\n",
       "<style scoped>\n",
       "    .dataframe tbody tr th:only-of-type {\n",
       "        vertical-align: middle;\n",
       "    }\n",
       "\n",
       "    .dataframe tbody tr th {\n",
       "        vertical-align: top;\n",
       "    }\n",
       "\n",
       "    .dataframe thead th {\n",
       "        text-align: right;\n",
       "    }\n",
       "</style>\n",
       "<table border=\"1\" class=\"dataframe\">\n",
       "  <thead>\n",
       "    <tr style=\"text-align: right;\">\n",
       "      <th></th>\n",
       "      <th>Null count</th>\n",
       "    </tr>\n",
       "  </thead>\n",
       "  <tbody>\n",
       "    <tr>\n",
       "      <th>image</th>\n",
       "      <td>0</td>\n",
       "    </tr>\n",
       "    <tr>\n",
       "      <th>MEL</th>\n",
       "      <td>0</td>\n",
       "    </tr>\n",
       "    <tr>\n",
       "      <th>NV</th>\n",
       "      <td>0</td>\n",
       "    </tr>\n",
       "    <tr>\n",
       "      <th>BCC</th>\n",
       "      <td>0</td>\n",
       "    </tr>\n",
       "    <tr>\n",
       "      <th>AKIEC</th>\n",
       "      <td>0</td>\n",
       "    </tr>\n",
       "    <tr>\n",
       "      <th>BKL</th>\n",
       "      <td>0</td>\n",
       "    </tr>\n",
       "    <tr>\n",
       "      <th>DF</th>\n",
       "      <td>0</td>\n",
       "    </tr>\n",
       "    <tr>\n",
       "      <th>VASC</th>\n",
       "      <td>0</td>\n",
       "    </tr>\n",
       "  </tbody>\n",
       "</table>\n",
       "</div>"
      ],
      "text/plain": [
       "       Null count\n",
       "image           0\n",
       "MEL             0\n",
       "NV              0\n",
       "BCC             0\n",
       "AKIEC           0\n",
       "BKL             0\n",
       "DF              0\n",
       "VASC            0"
      ]
     },
     "metadata": {},
     "output_type": "display_data"
    },
    {
     "name": "stdout",
     "output_type": "stream",
     "text": [
      "Validation Ground Truth set 2018 missing values\n"
     ]
    },
    {
     "data": {
      "text/html": [
       "<div>\n",
       "<style scoped>\n",
       "    .dataframe tbody tr th:only-of-type {\n",
       "        vertical-align: middle;\n",
       "    }\n",
       "\n",
       "    .dataframe tbody tr th {\n",
       "        vertical-align: top;\n",
       "    }\n",
       "\n",
       "    .dataframe thead th {\n",
       "        text-align: right;\n",
       "    }\n",
       "</style>\n",
       "<table border=\"1\" class=\"dataframe\">\n",
       "  <thead>\n",
       "    <tr style=\"text-align: right;\">\n",
       "      <th></th>\n",
       "      <th>Null count</th>\n",
       "    </tr>\n",
       "  </thead>\n",
       "  <tbody>\n",
       "    <tr>\n",
       "      <th>image</th>\n",
       "      <td>0</td>\n",
       "    </tr>\n",
       "    <tr>\n",
       "      <th>MEL</th>\n",
       "      <td>0</td>\n",
       "    </tr>\n",
       "    <tr>\n",
       "      <th>NV</th>\n",
       "      <td>0</td>\n",
       "    </tr>\n",
       "    <tr>\n",
       "      <th>BCC</th>\n",
       "      <td>0</td>\n",
       "    </tr>\n",
       "    <tr>\n",
       "      <th>AKIEC</th>\n",
       "      <td>0</td>\n",
       "    </tr>\n",
       "    <tr>\n",
       "      <th>BKL</th>\n",
       "      <td>0</td>\n",
       "    </tr>\n",
       "    <tr>\n",
       "      <th>DF</th>\n",
       "      <td>0</td>\n",
       "    </tr>\n",
       "    <tr>\n",
       "      <th>VASC</th>\n",
       "      <td>0</td>\n",
       "    </tr>\n",
       "  </tbody>\n",
       "</table>\n",
       "</div>"
      ],
      "text/plain": [
       "       Null count\n",
       "image           0\n",
       "MEL             0\n",
       "NV              0\n",
       "BCC             0\n",
       "AKIEC           0\n",
       "BKL             0\n",
       "DF              0\n",
       "VASC            0"
      ]
     },
     "metadata": {},
     "output_type": "display_data"
    }
   ],
   "source": [
    "print('Train set 2020 RAW missing values')\n",
    "display(pd.DataFrame(train_df_2020.isnull().sum(), columns=['Null count']))\n",
    "print('Test set 2020 RAW missing values')\n",
    "display(pd.DataFrame(test_df_2020.isnull().sum(), columns=['Null count']))\n",
    "\n",
    "print('\\n\\nTrain set 2019 RAW missing values')\n",
    "display(pd.DataFrame(train_df_2019.isnull().sum(), columns=['Null count']))\n",
    "print('Train Ground Truth set 2019 RAW missing values')\n",
    "display(pd.DataFrame(train_ground_truth_df_2019.isnull().sum(), columns=['Null count']))\n",
    "print('Test set 2019 RAW missing values')\n",
    "display(pd.DataFrame(test_df_2019.isnull().sum(), columns=['Null count']))\n",
    "\n",
    "print('\\n\\nTrain set 2018 RAW missing values')\n",
    "display(pd.DataFrame(train_df_2018.isnull().sum(), columns=['Null count']))\n",
    "print('Train Ground Truth set 2018 RAW missing values')\n",
    "display(pd.DataFrame(train_ground_truth_df_2018.isnull().sum(), columns=['Null count']))\n",
    "print('Validation Ground Truth set 2018 missing values')\n",
    "display(pd.DataFrame(validation_ground_truth_df_2018.isnull().sum(), columns=['Null count']))"
   ]
  },
  {
   "cell_type": "code",
   "execution_count": 12,
   "metadata": {
    "colab": {
     "base_uri": "https://localhost:8080/"
    },
    "executionInfo": {
     "elapsed": 1210,
     "status": "ok",
     "timestamp": 1618104903676,
     "user": {
      "displayName": "Yogesh Krishnakumar",
      "photoUrl": "",
      "userId": "03558106256612266348"
     },
     "user_tz": -600
    },
    "id": "_Px2F87kSXCq",
    "outputId": "71577572-d2c4-4325-ba61-2bf804e5f55f"
   },
   "outputs": [
    {
     "name": "stdout",
     "output_type": "stream",
     "text": [
      "(58031, 2)\n",
      "(58031, 5)\n"
     ]
    }
   ],
   "source": [
    "print(Processed_2018to2020_df.shape)\r\n",
    "print(Processed_withDetails_df.shape)\r\n"
   ]
  },
  {
   "cell_type": "code",
   "execution_count": 13,
   "metadata": {
    "colab": {
     "base_uri": "https://localhost:8080/"
    },
    "executionInfo": {
     "elapsed": 1679,
     "status": "ok",
     "timestamp": 1618104924771,
     "user": {
      "displayName": "Yogesh Krishnakumar",
      "photoUrl": "",
      "userId": "03558106256612266348"
     },
     "user_tz": -600
    },
    "id": "Xh4560ErSZe8",
    "outputId": "57122c9f-dd85-4d80-9175-5ba189c5df09"
   },
   "outputs": [
    {
     "name": "stdout",
     "output_type": "stream",
     "text": [
      "<class 'pandas.core.frame.DataFrame'>\n",
      "RangeIndex: 58031 entries, 0 to 58030\n",
      "Data columns (total 2 columns):\n",
      " #   Column     Non-Null Count  Dtype \n",
      "---  ------     --------------  ----- \n",
      " 0   image      58031 non-null  object\n",
      " 1   diagnosis  58031 non-null  object\n",
      "dtypes: object(2)\n",
      "memory usage: 906.9+ KB\n",
      "None\n",
      "\n",
      "\n",
      "<class 'pandas.core.frame.DataFrame'>\n",
      "RangeIndex: 58031 entries, 0 to 58030\n",
      "Data columns (total 5 columns):\n",
      " #   Column               Non-Null Count  Dtype  \n",
      "---  ------               --------------  -----  \n",
      " 0   image                58031 non-null  object \n",
      " 1   sex                  58031 non-null  object \n",
      " 2   age_approx           58031 non-null  float64\n",
      " 3   anatom_site_general  58031 non-null  object \n",
      " 4   diagnosis            58031 non-null  object \n",
      "dtypes: float64(1), object(4)\n",
      "memory usage: 2.2+ MB\n",
      "None\n"
     ]
    }
   ],
   "source": [
    "print(Processed_2018to2020_df.info())\r\n",
    "print(\"\\n\")\r\n",
    "print(Processed_withDetails_df.info())"
   ]
  },
  {
   "cell_type": "code",
   "execution_count": 14,
   "metadata": {
    "colab": {
     "base_uri": "https://localhost:8080/",
     "height": 195
    },
    "executionInfo": {
     "elapsed": 627,
     "status": "ok",
     "timestamp": 1618104975210,
     "user": {
      "displayName": "Yogesh Krishnakumar",
      "photoUrl": "",
      "userId": "03558106256612266348"
     },
     "user_tz": -600
    },
    "id": "R1GiA666SrPi",
    "outputId": "743d221a-08fa-4edb-b1c4-137808606090"
   },
   "outputs": [
    {
     "data": {
      "text/html": [
       "<div>\n",
       "<style scoped>\n",
       "    .dataframe tbody tr th:only-of-type {\n",
       "        vertical-align: middle;\n",
       "    }\n",
       "\n",
       "    .dataframe tbody tr th {\n",
       "        vertical-align: top;\n",
       "    }\n",
       "\n",
       "    .dataframe thead th {\n",
       "        text-align: right;\n",
       "    }\n",
       "</style>\n",
       "<table border=\"1\" class=\"dataframe\">\n",
       "  <thead>\n",
       "    <tr style=\"text-align: right;\">\n",
       "      <th></th>\n",
       "      <th>image</th>\n",
       "      <th>diagnosis</th>\n",
       "    </tr>\n",
       "  </thead>\n",
       "  <tbody>\n",
       "    <tr>\n",
       "      <th>0</th>\n",
       "      <td>ISIC_2637011</td>\n",
       "      <td>UNK</td>\n",
       "    </tr>\n",
       "    <tr>\n",
       "      <th>1</th>\n",
       "      <td>ISIC_0015719</td>\n",
       "      <td>UNK</td>\n",
       "    </tr>\n",
       "    <tr>\n",
       "      <th>2</th>\n",
       "      <td>ISIC_0052212</td>\n",
       "      <td>NV</td>\n",
       "    </tr>\n",
       "    <tr>\n",
       "      <th>3</th>\n",
       "      <td>ISIC_0068279</td>\n",
       "      <td>UNK</td>\n",
       "    </tr>\n",
       "    <tr>\n",
       "      <th>4</th>\n",
       "      <td>ISIC_0074268</td>\n",
       "      <td>UNK</td>\n",
       "    </tr>\n",
       "  </tbody>\n",
       "</table>\n",
       "</div>"
      ],
      "text/plain": [
       "          image diagnosis\n",
       "0  ISIC_2637011       UNK\n",
       "1  ISIC_0015719       UNK\n",
       "2  ISIC_0052212        NV\n",
       "3  ISIC_0068279       UNK\n",
       "4  ISIC_0074268       UNK"
      ]
     },
     "execution_count": 14,
     "metadata": {},
     "output_type": "execute_result"
    }
   ],
   "source": [
    "Processed_2018to2020_df.head()"
   ]
  },
  {
   "cell_type": "code",
   "execution_count": 15,
   "metadata": {
    "colab": {
     "base_uri": "https://localhost:8080/",
     "height": 195
    },
    "executionInfo": {
     "elapsed": 1382,
     "status": "ok",
     "timestamp": 1618104991944,
     "user": {
      "displayName": "Yogesh Krishnakumar",
      "photoUrl": "",
      "userId": "03558106256612266348"
     },
     "user_tz": -600
    },
    "id": "fc8XE23F-_g9",
    "outputId": "051c65f5-1c9e-494b-c1a9-dcd71b89ee9e"
   },
   "outputs": [
    {
     "data": {
      "text/html": [
       "<div>\n",
       "<style scoped>\n",
       "    .dataframe tbody tr th:only-of-type {\n",
       "        vertical-align: middle;\n",
       "    }\n",
       "\n",
       "    .dataframe tbody tr th {\n",
       "        vertical-align: top;\n",
       "    }\n",
       "\n",
       "    .dataframe thead th {\n",
       "        text-align: right;\n",
       "    }\n",
       "</style>\n",
       "<table border=\"1\" class=\"dataframe\">\n",
       "  <thead>\n",
       "    <tr style=\"text-align: right;\">\n",
       "      <th></th>\n",
       "      <th>image</th>\n",
       "      <th>sex</th>\n",
       "      <th>age_approx</th>\n",
       "      <th>anatom_site_general</th>\n",
       "      <th>diagnosis</th>\n",
       "    </tr>\n",
       "  </thead>\n",
       "  <tbody>\n",
       "    <tr>\n",
       "      <th>0</th>\n",
       "      <td>ISIC_2637011</td>\n",
       "      <td>male</td>\n",
       "      <td>45.0</td>\n",
       "      <td>head/neck</td>\n",
       "      <td>UNK</td>\n",
       "    </tr>\n",
       "    <tr>\n",
       "      <th>1</th>\n",
       "      <td>ISIC_0015719</td>\n",
       "      <td>female</td>\n",
       "      <td>45.0</td>\n",
       "      <td>upper extremity</td>\n",
       "      <td>UNK</td>\n",
       "    </tr>\n",
       "    <tr>\n",
       "      <th>2</th>\n",
       "      <td>ISIC_0052212</td>\n",
       "      <td>female</td>\n",
       "      <td>50.0</td>\n",
       "      <td>lower extremity</td>\n",
       "      <td>NV</td>\n",
       "    </tr>\n",
       "    <tr>\n",
       "      <th>3</th>\n",
       "      <td>ISIC_0068279</td>\n",
       "      <td>female</td>\n",
       "      <td>45.0</td>\n",
       "      <td>head/neck</td>\n",
       "      <td>UNK</td>\n",
       "    </tr>\n",
       "    <tr>\n",
       "      <th>4</th>\n",
       "      <td>ISIC_0074268</td>\n",
       "      <td>female</td>\n",
       "      <td>55.0</td>\n",
       "      <td>upper extremity</td>\n",
       "      <td>UNK</td>\n",
       "    </tr>\n",
       "  </tbody>\n",
       "</table>\n",
       "</div>"
      ],
      "text/plain": [
       "          image     sex  age_approx anatom_site_general diagnosis\n",
       "0  ISIC_2637011    male        45.0           head/neck       UNK\n",
       "1  ISIC_0015719  female        45.0     upper extremity       UNK\n",
       "2  ISIC_0052212  female        50.0     lower extremity        NV\n",
       "3  ISIC_0068279  female        45.0           head/neck       UNK\n",
       "4  ISIC_0074268  female        55.0     upper extremity       UNK"
      ]
     },
     "execution_count": 15,
     "metadata": {},
     "output_type": "execute_result"
    }
   ],
   "source": [
    "Processed_withDetails_df.head()"
   ]
  },
  {
   "cell_type": "code",
   "execution_count": 16,
   "metadata": {
    "colab": {
     "base_uri": "https://localhost:8080/",
     "height": 484
    },
    "executionInfo": {
     "elapsed": 1967,
     "status": "ok",
     "timestamp": 1618105027378,
     "user": {
      "displayName": "Yogesh Krishnakumar",
      "photoUrl": "",
      "userId": "03558106256612266348"
     },
     "user_tz": -600
    },
    "id": "TjSPgbeBSunq",
    "outputId": "4cb9a94f-93de-4e10-c56c-3faedd645ecb"
   },
   "outputs": [
    {
     "name": "stdout",
     "output_type": "stream",
     "text": [
      "Processed Data without Demographic details missing values\n"
     ]
    },
    {
     "data": {
      "text/html": [
       "<div>\n",
       "<style scoped>\n",
       "    .dataframe tbody tr th:only-of-type {\n",
       "        vertical-align: middle;\n",
       "    }\n",
       "\n",
       "    .dataframe tbody tr th {\n",
       "        vertical-align: top;\n",
       "    }\n",
       "\n",
       "    .dataframe thead th {\n",
       "        text-align: right;\n",
       "    }\n",
       "</style>\n",
       "<table border=\"1\" class=\"dataframe\">\n",
       "  <thead>\n",
       "    <tr style=\"text-align: right;\">\n",
       "      <th></th>\n",
       "      <th>Null count</th>\n",
       "    </tr>\n",
       "  </thead>\n",
       "  <tbody>\n",
       "    <tr>\n",
       "      <th>image</th>\n",
       "      <td>0</td>\n",
       "    </tr>\n",
       "    <tr>\n",
       "      <th>diagnosis</th>\n",
       "      <td>0</td>\n",
       "    </tr>\n",
       "  </tbody>\n",
       "</table>\n",
       "</div>"
      ],
      "text/plain": [
       "           Null count\n",
       "image               0\n",
       "diagnosis           0"
      ]
     },
     "metadata": {},
     "output_type": "display_data"
    },
    {
     "name": "stdout",
     "output_type": "stream",
     "text": [
      "Processed Data with Demographic details missing values\n"
     ]
    },
    {
     "data": {
      "text/html": [
       "<div>\n",
       "<style scoped>\n",
       "    .dataframe tbody tr th:only-of-type {\n",
       "        vertical-align: middle;\n",
       "    }\n",
       "\n",
       "    .dataframe tbody tr th {\n",
       "        vertical-align: top;\n",
       "    }\n",
       "\n",
       "    .dataframe thead th {\n",
       "        text-align: right;\n",
       "    }\n",
       "</style>\n",
       "<table border=\"1\" class=\"dataframe\">\n",
       "  <thead>\n",
       "    <tr style=\"text-align: right;\">\n",
       "      <th></th>\n",
       "      <th>Null count</th>\n",
       "    </tr>\n",
       "  </thead>\n",
       "  <tbody>\n",
       "    <tr>\n",
       "      <th>image</th>\n",
       "      <td>0</td>\n",
       "    </tr>\n",
       "    <tr>\n",
       "      <th>sex</th>\n",
       "      <td>0</td>\n",
       "    </tr>\n",
       "    <tr>\n",
       "      <th>age_approx</th>\n",
       "      <td>0</td>\n",
       "    </tr>\n",
       "    <tr>\n",
       "      <th>anatom_site_general</th>\n",
       "      <td>0</td>\n",
       "    </tr>\n",
       "    <tr>\n",
       "      <th>diagnosis</th>\n",
       "      <td>0</td>\n",
       "    </tr>\n",
       "  </tbody>\n",
       "</table>\n",
       "</div>"
      ],
      "text/plain": [
       "                     Null count\n",
       "image                         0\n",
       "sex                           0\n",
       "age_approx                    0\n",
       "anatom_site_general           0\n",
       "diagnosis                     0"
      ]
     },
     "metadata": {},
     "output_type": "display_data"
    }
   ],
   "source": [
    "print('Processed Data without Demographic details missing values')\r\n",
    "display(pd.DataFrame(Processed_2018to2020_df.isnull().sum(), columns=['Null count']))\r\n",
    "\r\n",
    "print('Processed Data with Demographic details missing values')\r\n",
    "display(pd.DataFrame(Processed_withDetails_df.isnull().sum(), columns=['Null count']))"
   ]
  },
  {
   "cell_type": "markdown",
   "metadata": {
    "id": "R5Wq5DOrZWAH"
   },
   "source": [
    "# Visualisation "
   ]
  },
  {
   "cell_type": "code",
   "execution_count": 17,
   "metadata": {
    "id": "c3qGKl-3TQ9T"
   },
   "outputs": [],
   "source": [
    "def plot_count(df, feature, title='', size=2, rotate_axis = False):\n",
    "    f, ax = plt.subplots(1,1, figsize=(3*size,2*size))\n",
    "    total = float(len(df))\n",
    "    sns.countplot(df[feature],order = df[feature].value_counts().index, palette='Set3')\n",
    "    plt.title(title)\n",
    "    if(rotate_axis):\n",
    "        ax.set_xticklabels(ax.get_xticklabels(), rotation=90)\n",
    "    for p in ax.patches:\n",
    "        height = p.get_height()\n",
    "        ax.text(p.get_x()+p.get_width()/2.,\n",
    "                height + 3,\n",
    "                '{:1.2f}%'.format(100*height/total),\n",
    "                ha=\"center\") \n",
    "    plt.show()"
   ]
  },
  {
   "cell_type": "code",
   "execution_count": 18,
   "metadata": {
    "colab": {
     "base_uri": "https://localhost:8080/",
     "height": 566
    },
    "executionInfo": {
     "elapsed": 898,
     "status": "ok",
     "timestamp": 1618105130634,
     "user": {
      "displayName": "Yogesh Krishnakumar",
      "photoUrl": "",
      "userId": "03558106256612266348"
     },
     "user_tz": -600
    },
    "id": "hyrTD_MD0Ti5",
    "outputId": "5ccab1ec-0136-4d9a-86cb-880ccda3efac"
   },
   "outputs": [
    {
     "name": "stderr",
     "output_type": "stream",
     "text": [
      "C:\\Users\\dipen\\AppData\\Local\\Temp\\ipykernel_34036\\660119315.py:4: FutureWarning: \n",
      "\n",
      "Passing `palette` without assigning `hue` is deprecated and will be removed in v0.14.0. Assign the `x` variable to `hue` and set `legend=False` for the same effect.\n",
      "\n",
      "  sns.countplot(df[feature],order = df[feature].value_counts().index, palette='Set3')\n"
     ]
    },
    {
     "data": {
      "image/png": "[encoded data removed]",
      "text/plain": [
       "<Figure size 1200x800 with 1 Axes>"
      ]
     },
     "metadata": {},
     "output_type": "display_data"
    }
   ],
   "source": [
    "plot_count(test_df_2020, 'age_approx', 'Patient approximate age (test) - data count and percent', size=4)"
   ]
  },
  {
   "cell_type": "code",
   "execution_count": 19,
   "metadata": {
    "colab": {
     "base_uri": "https://localhost:8080/",
     "height": 566
    },
    "executionInfo": {
     "elapsed": 1000,
     "status": "ok",
     "timestamp": 1618105133554,
     "user": {
      "displayName": "Yogesh Krishnakumar",
      "photoUrl": "",
      "userId": "03558106256612266348"
     },
     "user_tz": -600
    },
    "id": "qIo53Xb01IRA",
    "outputId": "6d1c9c75-22b7-4062-bbaf-cc18a0e0f063"
   },
   "outputs": [
    {
     "name": "stderr",
     "output_type": "stream",
     "text": [
      "C:\\Users\\dipen\\AppData\\Local\\Temp\\ipykernel_34036\\660119315.py:4: FutureWarning: \n",
      "\n",
      "Passing `palette` without assigning `hue` is deprecated and will be removed in v0.14.0. Assign the `x` variable to `hue` and set `legend=False` for the same effect.\n",
      "\n",
      "  sns.countplot(df[feature],order = df[feature].value_counts().index, palette='Set3')\n"
     ]
    },
    {
     "data": {
      "image/png": "[encoded data removed]",
      "text/plain": [
       "<Figure size 1200x800 with 1 Axes>"
      ]
     },
     "metadata": {},
     "output_type": "display_data"
    }
   ],
   "source": [
    "plot_count(train_df_2020, 'age_approx', 'Patient approximate age (train) - data count and percent', size=4)"
   ]
  },
  {
   "cell_type": "code",
   "execution_count": 20,
   "metadata": {
    "colab": {
     "base_uri": "https://localhost:8080/",
     "height": 1000
    },
    "executionInfo": {
     "elapsed": 623,
     "status": "ok",
     "timestamp": 1618105136350,
     "user": {
      "displayName": "Yogesh Krishnakumar",
      "photoUrl": "",
      "userId": "03558106256612266348"
     },
     "user_tz": -600
    },
    "id": "sTOp87OAHFNC",
    "outputId": "5dfdc94f-7e44-417d-961b-4f1888c52d54"
   },
   "outputs": [
    {
     "data": {
      "text/html": [
       "<style type=\"text/css\">\n",
       "#T_7f7b4_row0_col0, #T_7f7b4_row0_col3, #T_7f7b4_row1_col0, #T_7f7b4_row2_col0, #T_7f7b4_row3_col0, #T_7f7b4_row4_col0, #T_7f7b4_row5_col0, #T_7f7b4_row6_col0, #T_7f7b4_row7_col0, #T_7f7b4_row8_col0, #T_7f7b4_row9_col0, #T_7f7b4_row10_col0, #T_7f7b4_row11_col0, #T_7f7b4_row12_col0, #T_7f7b4_row13_col0, #T_7f7b4_row14_col0, #T_7f7b4_row15_col0, #T_7f7b4_row16_col0, #T_7f7b4_row17_col0, #T_7f7b4_row17_col2, #T_7f7b4_row17_col3, #T_7f7b4_row18_col0, #T_7f7b4_row18_col3, #T_7f7b4_row19_col0, #T_7f7b4_row20_col0, #T_7f7b4_row21_col0, #T_7f7b4_row22_col0, #T_7f7b4_row23_col0, #T_7f7b4_row24_col0, #T_7f7b4_row25_col0, #T_7f7b4_row26_col0, #T_7f7b4_row27_col0, #T_7f7b4_row28_col0, #T_7f7b4_row29_col0, #T_7f7b4_row30_col0, #T_7f7b4_row31_col0, #T_7f7b4_row32_col0, #T_7f7b4_row33_col0, #T_7f7b4_row34_col0, #T_7f7b4_row35_col3, #T_7f7b4_row36_col3, #T_7f7b4_row37_col3, #T_7f7b4_row38_col3, #T_7f7b4_row40_col3, #T_7f7b4_row48_col3, #T_7f7b4_row49_col3, #T_7f7b4_row50_col3, #T_7f7b4_row51_col3, #T_7f7b4_row54_col3, #T_7f7b4_row64_col3, #T_7f7b4_row65_col3 {\n",
       "  background-color: #fff5f0;\n",
       "  color: #000000;\n",
       "}\n",
       "#T_7f7b4_row0_col2, #T_7f7b4_row18_col2 {\n",
       "  background-color: #fee3d6;\n",
       "  color: #000000;\n",
       "}\n",
       "#T_7f7b4_row1_col2, #T_7f7b4_row19_col2, #T_7f7b4_row35_col2 {\n",
       "  background-color: #fdd4c2;\n",
       "  color: #000000;\n",
       "}\n",
       "#T_7f7b4_row1_col3, #T_7f7b4_row33_col3 {\n",
       "  background-color: #fff0e9;\n",
       "  color: #000000;\n",
       "}\n",
       "#T_7f7b4_row2_col2, #T_7f7b4_row20_col2, #T_7f7b4_row21_col3, #T_7f7b4_row36_col2, #T_7f7b4_row51_col2 {\n",
       "  background-color: #fcc4ad;\n",
       "  color: #000000;\n",
       "}\n",
       "#T_7f7b4_row2_col3 {\n",
       "  background-color: #fee1d4;\n",
       "  color: #000000;\n",
       "}\n",
       "#T_7f7b4_row3_col2, #T_7f7b4_row21_col2, #T_7f7b4_row37_col2, #T_7f7b4_row52_col2 {\n",
       "  background-color: #fcb296;\n",
       "  color: #000000;\n",
       "}\n",
       "#T_7f7b4_row3_col3 {\n",
       "  background-color: #fc8d6d;\n",
       "  color: #f1f1f1;\n",
       "}\n",
       "#T_7f7b4_row4_col2, #T_7f7b4_row22_col2, #T_7f7b4_row38_col2, #T_7f7b4_row53_col2 {\n",
       "  background-color: #fca082;\n",
       "  color: #000000;\n",
       "}\n",
       "#T_7f7b4_row4_col3 {\n",
       "  background-color: #f5533b;\n",
       "  color: #f1f1f1;\n",
       "}\n",
       "#T_7f7b4_row5_col2, #T_7f7b4_row23_col2, #T_7f7b4_row39_col2, #T_7f7b4_row54_col2 {\n",
       "  background-color: #fc8e6e;\n",
       "  color: #000000;\n",
       "}\n",
       "#T_7f7b4_row5_col3 {\n",
       "  background-color: #f03f2e;\n",
       "  color: #f1f1f1;\n",
       "}\n",
       "#T_7f7b4_row6_col2, #T_7f7b4_row24_col2, #T_7f7b4_row40_col2, #T_7f7b4_row55_col2 {\n",
       "  background-color: #fb7c5c;\n",
       "  color: #f1f1f1;\n",
       "}\n",
       "#T_7f7b4_row6_col3, #T_7f7b4_row11_col2, #T_7f7b4_row29_col2, #T_7f7b4_row45_col2, #T_7f7b4_row60_col2 {\n",
       "  background-color: #d32020;\n",
       "  color: #f1f1f1;\n",
       "}\n",
       "#T_7f7b4_row7_col2, #T_7f7b4_row25_col2, #T_7f7b4_row41_col2, #T_7f7b4_row56_col2 {\n",
       "  background-color: #fb694a;\n",
       "  color: #f1f1f1;\n",
       "}\n",
       "#T_7f7b4_row7_col3, #T_7f7b4_row12_col2, #T_7f7b4_row30_col2, #T_7f7b4_row46_col2, #T_7f7b4_row61_col2 {\n",
       "  background-color: #c2161b;\n",
       "  color: #f1f1f1;\n",
       "}\n",
       "#T_7f7b4_row8_col2, #T_7f7b4_row26_col2, #T_7f7b4_row42_col2, #T_7f7b4_row57_col2 {\n",
       "  background-color: #f6553c;\n",
       "  color: #f1f1f1;\n",
       "}\n",
       "#T_7f7b4_row8_col3, #T_7f7b4_row13_col2, #T_7f7b4_row31_col2, #T_7f7b4_row47_col2, #T_7f7b4_row62_col2 {\n",
       "  background-color: #b11218;\n",
       "  color: #f1f1f1;\n",
       "}\n",
       "#T_7f7b4_row9_col2, #T_7f7b4_row27_col2, #T_7f7b4_row43_col2, #T_7f7b4_row58_col2 {\n",
       "  background-color: #f0402f;\n",
       "  color: #f1f1f1;\n",
       "}\n",
       "#T_7f7b4_row9_col3 {\n",
       "  background-color: #be151a;\n",
       "  color: #f1f1f1;\n",
       "}\n",
       "#T_7f7b4_row10_col2, #T_7f7b4_row28_col2, #T_7f7b4_row44_col2, #T_7f7b4_row59_col2 {\n",
       "  background-color: #e32f27;\n",
       "  color: #f1f1f1;\n",
       "}\n",
       "#T_7f7b4_row10_col3 {\n",
       "  background-color: #f34935;\n",
       "  color: #f1f1f1;\n",
       "}\n",
       "#T_7f7b4_row11_col3 {\n",
       "  background-color: #fb7656;\n",
       "  color: #f1f1f1;\n",
       "}\n",
       "#T_7f7b4_row12_col3 {\n",
       "  background-color: #fcc2aa;\n",
       "  color: #000000;\n",
       "}\n",
       "#T_7f7b4_row13_col3 {\n",
       "  background-color: #fee0d2;\n",
       "  color: #000000;\n",
       "}\n",
       "#T_7f7b4_row14_col2, #T_7f7b4_row32_col2, #T_7f7b4_row48_col2, #T_7f7b4_row63_col2 {\n",
       "  background-color: #9d0d14;\n",
       "  color: #f1f1f1;\n",
       "}\n",
       "#T_7f7b4_row14_col3 {\n",
       "  background-color: #ffece3;\n",
       "  color: #000000;\n",
       "}\n",
       "#T_7f7b4_row15_col2, #T_7f7b4_row33_col2, #T_7f7b4_row49_col2, #T_7f7b4_row64_col2 {\n",
       "  background-color: #820711;\n",
       "  color: #f1f1f1;\n",
       "}\n",
       "#T_7f7b4_row15_col3 {\n",
       "  background-color: #fff1ea;\n",
       "  color: #000000;\n",
       "}\n",
       "#T_7f7b4_row16_col2, #T_7f7b4_row25_col3, #T_7f7b4_row34_col2, #T_7f7b4_row35_col0, #T_7f7b4_row36_col0, #T_7f7b4_row37_col0, #T_7f7b4_row38_col0, #T_7f7b4_row39_col0, #T_7f7b4_row40_col0, #T_7f7b4_row41_col0, #T_7f7b4_row42_col0, #T_7f7b4_row43_col0, #T_7f7b4_row44_col0, #T_7f7b4_row45_col0, #T_7f7b4_row46_col0, #T_7f7b4_row47_col0, #T_7f7b4_row48_col0, #T_7f7b4_row49_col0, #T_7f7b4_row50_col0, #T_7f7b4_row50_col2, #T_7f7b4_row51_col0, #T_7f7b4_row52_col0, #T_7f7b4_row53_col0, #T_7f7b4_row54_col0, #T_7f7b4_row55_col0, #T_7f7b4_row56_col0, #T_7f7b4_row57_col0, #T_7f7b4_row58_col0, #T_7f7b4_row59_col0, #T_7f7b4_row60_col0, #T_7f7b4_row61_col0, #T_7f7b4_row62_col0, #T_7f7b4_row63_col0, #T_7f7b4_row64_col0, #T_7f7b4_row65_col0, #T_7f7b4_row65_col2 {\n",
       "  background-color: #67000d;\n",
       "  color: #f1f1f1;\n",
       "}\n",
       "#T_7f7b4_row16_col3, #T_7f7b4_row19_col3 {\n",
       "  background-color: #fff2eb;\n",
       "  color: #000000;\n",
       "}\n",
       "#T_7f7b4_row20_col3 {\n",
       "  background-color: #fedccd;\n",
       "  color: #000000;\n",
       "}\n",
       "#T_7f7b4_row22_col3 {\n",
       "  background-color: #fc9070;\n",
       "  color: #000000;\n",
       "}\n",
       "#T_7f7b4_row23_col3 {\n",
       "  background-color: #f96245;\n",
       "  color: #f1f1f1;\n",
       "}\n",
       "#T_7f7b4_row24_col3 {\n",
       "  background-color: #d52221;\n",
       "  color: #f1f1f1;\n",
       "}\n",
       "#T_7f7b4_row26_col3 {\n",
       "  background-color: #a60f15;\n",
       "  color: #f1f1f1;\n",
       "}\n",
       "#T_7f7b4_row27_col3 {\n",
       "  background-color: #d11e1f;\n",
       "  color: #f1f1f1;\n",
       "}\n",
       "#T_7f7b4_row28_col3 {\n",
       "  background-color: #db2824;\n",
       "  color: #f1f1f1;\n",
       "}\n",
       "#T_7f7b4_row29_col3 {\n",
       "  background-color: #f85f43;\n",
       "  color: #f1f1f1;\n",
       "}\n",
       "#T_7f7b4_row30_col3 {\n",
       "  background-color: #f75b40;\n",
       "  color: #f1f1f1;\n",
       "}\n",
       "#T_7f7b4_row31_col3 {\n",
       "  background-color: #fcbda4;\n",
       "  color: #000000;\n",
       "}\n",
       "#T_7f7b4_row32_col3 {\n",
       "  background-color: #fee5d8;\n",
       "  color: #000000;\n",
       "}\n",
       "#T_7f7b4_row34_col3, #T_7f7b4_row39_col3, #T_7f7b4_row42_col3, #T_7f7b4_row44_col3, #T_7f7b4_row46_col3, #T_7f7b4_row47_col3, #T_7f7b4_row52_col3, #T_7f7b4_row53_col3, #T_7f7b4_row55_col3 {\n",
       "  background-color: #fff4ef;\n",
       "  color: #000000;\n",
       "}\n",
       "#T_7f7b4_row41_col3, #T_7f7b4_row56_col3, #T_7f7b4_row58_col3, #T_7f7b4_row63_col3 {\n",
       "  background-color: #fff4ee;\n",
       "  color: #000000;\n",
       "}\n",
       "#T_7f7b4_row43_col3, #T_7f7b4_row45_col3, #T_7f7b4_row57_col3, #T_7f7b4_row60_col3 {\n",
       "  background-color: #fff3ed;\n",
       "  color: #000000;\n",
       "}\n",
       "#T_7f7b4_row59_col3, #T_7f7b4_row61_col3, #T_7f7b4_row62_col3 {\n",
       "  background-color: #fff2ec;\n",
       "  color: #000000;\n",
       "}\n",
       "</style>\n",
       "<table id=\"T_7f7b4\">\n",
       "  <thead>\n",
       "    <tr>\n",
       "      <th class=\"blank level0\" >&nbsp;</th>\n",
       "      <th id=\"T_7f7b4_level0_col0\" class=\"col_heading level0 col0\" >target</th>\n",
       "      <th id=\"T_7f7b4_level0_col1\" class=\"col_heading level0 col1\" >sex</th>\n",
       "      <th id=\"T_7f7b4_level0_col2\" class=\"col_heading level0 col2\" >age_approx</th>\n",
       "      <th id=\"T_7f7b4_level0_col3\" class=\"col_heading level0 col3\" >benign_malignant</th>\n",
       "    </tr>\n",
       "  </thead>\n",
       "  <tbody>\n",
       "    <tr>\n",
       "      <th id=\"T_7f7b4_level0_row0\" class=\"row_heading level0 row0\" >0</th>\n",
       "      <td id=\"T_7f7b4_row0_col0\" class=\"data row0 col0\" >0</td>\n",
       "      <td id=\"T_7f7b4_row0_col1\" class=\"data row0 col1\" >female</td>\n",
       "      <td id=\"T_7f7b4_row0_col2\" class=\"data row0 col2\" >10.000000</td>\n",
       "      <td id=\"T_7f7b4_row0_col3\" class=\"data row0 col3\" >10</td>\n",
       "    </tr>\n",
       "    <tr>\n",
       "      <th id=\"T_7f7b4_level0_row1\" class=\"row_heading level0 row1\" >1</th>\n",
       "      <td id=\"T_7f7b4_row1_col0\" class=\"data row1 col0\" >0</td>\n",
       "      <td id=\"T_7f7b4_row1_col1\" class=\"data row1 col1\" >female</td>\n",
       "      <td id=\"T_7f7b4_row1_col2\" class=\"data row1 col2\" >15.000000</td>\n",
       "      <td id=\"T_7f7b4_row1_col3\" class=\"data row1 col3\" >77</td>\n",
       "    </tr>\n",
       "    <tr>\n",
       "      <th id=\"T_7f7b4_level0_row2\" class=\"row_heading level0 row2\" >2</th>\n",
       "      <td id=\"T_7f7b4_row2_col0\" class=\"data row2 col0\" >0</td>\n",
       "      <td id=\"T_7f7b4_row2_col1\" class=\"data row2 col1\" >female</td>\n",
       "      <td id=\"T_7f7b4_row2_col2\" class=\"data row2 col2\" >20.000000</td>\n",
       "      <td id=\"T_7f7b4_row2_col3\" class=\"data row2 col3\" >299</td>\n",
       "    </tr>\n",
       "    <tr>\n",
       "      <th id=\"T_7f7b4_level0_row3\" class=\"row_heading level0 row3\" >3</th>\n",
       "      <td id=\"T_7f7b4_row3_col0\" class=\"data row3 col0\" >0</td>\n",
       "      <td id=\"T_7f7b4_row3_col1\" class=\"data row3 col1\" >female</td>\n",
       "      <td id=\"T_7f7b4_row3_col2\" class=\"data row3 col2\" >25.000000</td>\n",
       "      <td id=\"T_7f7b4_row3_col3\" class=\"data row3 col3\" >975</td>\n",
       "    </tr>\n",
       "    <tr>\n",
       "      <th id=\"T_7f7b4_level0_row4\" class=\"row_heading level0 row4\" >4</th>\n",
       "      <td id=\"T_7f7b4_row4_col0\" class=\"data row4 col0\" >0</td>\n",
       "      <td id=\"T_7f7b4_row4_col1\" class=\"data row4 col1\" >female</td>\n",
       "      <td id=\"T_7f7b4_row4_col2\" class=\"data row4 col2\" >30.000000</td>\n",
       "      <td id=\"T_7f7b4_row4_col3\" class=\"data row4 col3\" >1391</td>\n",
       "    </tr>\n",
       "    <tr>\n",
       "      <th id=\"T_7f7b4_level0_row5\" class=\"row_heading level0 row5\" >5</th>\n",
       "      <td id=\"T_7f7b4_row5_col0\" class=\"data row5 col0\" >0</td>\n",
       "      <td id=\"T_7f7b4_row5_col1\" class=\"data row5 col1\" >female</td>\n",
       "      <td id=\"T_7f7b4_row5_col2\" class=\"data row5 col2\" >35.000000</td>\n",
       "      <td id=\"T_7f7b4_row5_col3\" class=\"data row5 col3\" >1528</td>\n",
       "    </tr>\n",
       "    <tr>\n",
       "      <th id=\"T_7f7b4_level0_row6\" class=\"row_heading level0 row6\" >6</th>\n",
       "      <td id=\"T_7f7b4_row6_col0\" class=\"data row6 col0\" >0</td>\n",
       "      <td id=\"T_7f7b4_row6_col1\" class=\"data row6 col1\" >female</td>\n",
       "      <td id=\"T_7f7b4_row6_col2\" class=\"data row6 col2\" >40.000000</td>\n",
       "      <td id=\"T_7f7b4_row6_col3\" class=\"data row6 col3\" >1788</td>\n",
       "    </tr>\n",
       "    <tr>\n",
       "      <th id=\"T_7f7b4_level0_row7\" class=\"row_heading level0 row7\" >7</th>\n",
       "      <td id=\"T_7f7b4_row7_col0\" class=\"data row7 col0\" >0</td>\n",
       "      <td id=\"T_7f7b4_row7_col1\" class=\"data row7 col1\" >female</td>\n",
       "      <td id=\"T_7f7b4_row7_col2\" class=\"data row7 col2\" >45.000000</td>\n",
       "      <td id=\"T_7f7b4_row7_col3\" class=\"data row7 col3\" >1935</td>\n",
       "    </tr>\n",
       "    <tr>\n",
       "      <th id=\"T_7f7b4_level0_row8\" class=\"row_heading level0 row8\" >8</th>\n",
       "      <td id=\"T_7f7b4_row8_col0\" class=\"data row8 col0\" >0</td>\n",
       "      <td id=\"T_7f7b4_row8_col1\" class=\"data row8 col1\" >female</td>\n",
       "      <td id=\"T_7f7b4_row8_col2\" class=\"data row8 col2\" >50.000000</td>\n",
       "      <td id=\"T_7f7b4_row8_col3\" class=\"data row8 col3\" >2064</td>\n",
       "    </tr>\n",
       "    <tr>\n",
       "      <th id=\"T_7f7b4_level0_row9\" class=\"row_heading level0 row9\" >9</th>\n",
       "      <td id=\"T_7f7b4_row9_col0\" class=\"data row9 col0\" >0</td>\n",
       "      <td id=\"T_7f7b4_row9_col1\" class=\"data row9 col1\" >female</td>\n",
       "      <td id=\"T_7f7b4_row9_col2\" class=\"data row9 col2\" >55.000000</td>\n",
       "      <td id=\"T_7f7b4_row9_col3\" class=\"data row9 col3\" >1955</td>\n",
       "    </tr>\n",
       "    <tr>\n",
       "      <th id=\"T_7f7b4_level0_row10\" class=\"row_heading level0 row10\" >10</th>\n",
       "      <td id=\"T_7f7b4_row10_col0\" class=\"data row10 col0\" >0</td>\n",
       "      <td id=\"T_7f7b4_row10_col1\" class=\"data row10 col1\" >female</td>\n",
       "      <td id=\"T_7f7b4_row10_col2\" class=\"data row10 col2\" >60.000000</td>\n",
       "      <td id=\"T_7f7b4_row10_col3\" class=\"data row10 col3\" >1455</td>\n",
       "    </tr>\n",
       "    <tr>\n",
       "      <th id=\"T_7f7b4_level0_row11\" class=\"row_heading level0 row11\" >11</th>\n",
       "      <td id=\"T_7f7b4_row11_col0\" class=\"data row11 col0\" >0</td>\n",
       "      <td id=\"T_7f7b4_row11_col1\" class=\"data row11 col1\" >female</td>\n",
       "      <td id=\"T_7f7b4_row11_col2\" class=\"data row11 col2\" >65.000000</td>\n",
       "      <td id=\"T_7f7b4_row11_col3\" class=\"data row11 col3\" >1147</td>\n",
       "    </tr>\n",
       "    <tr>\n",
       "      <th id=\"T_7f7b4_level0_row12\" class=\"row_heading level0 row12\" >12</th>\n",
       "      <td id=\"T_7f7b4_row12_col0\" class=\"data row12 col0\" >0</td>\n",
       "      <td id=\"T_7f7b4_row12_col1\" class=\"data row12 col1\" >female</td>\n",
       "      <td id=\"T_7f7b4_row12_col2\" class=\"data row12 col2\" >70.000000</td>\n",
       "      <td id=\"T_7f7b4_row12_col3\" class=\"data row12 col3\" >568</td>\n",
       "    </tr>\n",
       "    <tr>\n",
       "      <th id=\"T_7f7b4_level0_row13\" class=\"row_heading level0 row13\" >13</th>\n",
       "      <td id=\"T_7f7b4_row13_col0\" class=\"data row13 col0\" >0</td>\n",
       "      <td id=\"T_7f7b4_row13_col1\" class=\"data row13 col1\" >female</td>\n",
       "      <td id=\"T_7f7b4_row13_col2\" class=\"data row13 col2\" >75.000000</td>\n",
       "      <td id=\"T_7f7b4_row13_col3\" class=\"data row13 col3\" >314</td>\n",
       "    </tr>\n",
       "    <tr>\n",
       "      <th id=\"T_7f7b4_level0_row14\" class=\"row_heading level0 row14\" >14</th>\n",
       "      <td id=\"T_7f7b4_row14_col0\" class=\"data row14 col0\" >0</td>\n",
       "      <td id=\"T_7f7b4_row14_col1\" class=\"data row14 col1\" >female</td>\n",
       "      <td id=\"T_7f7b4_row14_col2\" class=\"data row14 col2\" >80.000000</td>\n",
       "      <td id=\"T_7f7b4_row14_col3\" class=\"data row14 col3\" >139</td>\n",
       "    </tr>\n",
       "    <tr>\n",
       "      <th id=\"T_7f7b4_level0_row15\" class=\"row_heading level0 row15\" >15</th>\n",
       "      <td id=\"T_7f7b4_row15_col0\" class=\"data row15 col0\" >0</td>\n",
       "      <td id=\"T_7f7b4_row15_col1\" class=\"data row15 col1\" >female</td>\n",
       "      <td id=\"T_7f7b4_row15_col2\" class=\"data row15 col2\" >85.000000</td>\n",
       "      <td id=\"T_7f7b4_row15_col3\" class=\"data row15 col3\" >61</td>\n",
       "    </tr>\n",
       "    <tr>\n",
       "      <th id=\"T_7f7b4_level0_row16\" class=\"row_heading level0 row16\" >16</th>\n",
       "      <td id=\"T_7f7b4_row16_col0\" class=\"data row16 col0\" >0</td>\n",
       "      <td id=\"T_7f7b4_row16_col1\" class=\"data row16 col1\" >female</td>\n",
       "      <td id=\"T_7f7b4_row16_col2\" class=\"data row16 col2\" >90.000000</td>\n",
       "      <td id=\"T_7f7b4_row16_col3\" class=\"data row16 col3\" >52</td>\n",
       "    </tr>\n",
       "    <tr>\n",
       "      <th id=\"T_7f7b4_level0_row17\" class=\"row_heading level0 row17\" >17</th>\n",
       "      <td id=\"T_7f7b4_row17_col0\" class=\"data row17 col0\" >0</td>\n",
       "      <td id=\"T_7f7b4_row17_col1\" class=\"data row17 col1\" >male</td>\n",
       "      <td id=\"T_7f7b4_row17_col2\" class=\"data row17 col2\" >0.000000</td>\n",
       "      <td id=\"T_7f7b4_row17_col3\" class=\"data row17 col3\" >2</td>\n",
       "    </tr>\n",
       "    <tr>\n",
       "      <th id=\"T_7f7b4_level0_row18\" class=\"row_heading level0 row18\" >18</th>\n",
       "      <td id=\"T_7f7b4_row18_col0\" class=\"data row18 col0\" >0</td>\n",
       "      <td id=\"T_7f7b4_row18_col1\" class=\"data row18 col1\" >male</td>\n",
       "      <td id=\"T_7f7b4_row18_col2\" class=\"data row18 col2\" >10.000000</td>\n",
       "      <td id=\"T_7f7b4_row18_col3\" class=\"data row18 col3\" >7</td>\n",
       "    </tr>\n",
       "    <tr>\n",
       "      <th id=\"T_7f7b4_level0_row19\" class=\"row_heading level0 row19\" >19</th>\n",
       "      <td id=\"T_7f7b4_row19_col0\" class=\"data row19 col0\" >0</td>\n",
       "      <td id=\"T_7f7b4_row19_col1\" class=\"data row19 col1\" >male</td>\n",
       "      <td id=\"T_7f7b4_row19_col2\" class=\"data row19 col2\" >15.000000</td>\n",
       "      <td id=\"T_7f7b4_row19_col3\" class=\"data row19 col3\" >53</td>\n",
       "    </tr>\n",
       "    <tr>\n",
       "      <th id=\"T_7f7b4_level0_row20\" class=\"row_heading level0 row20\" >20</th>\n",
       "      <td id=\"T_7f7b4_row20_col0\" class=\"data row20 col0\" >0</td>\n",
       "      <td id=\"T_7f7b4_row20_col1\" class=\"data row20 col1\" >male</td>\n",
       "      <td id=\"T_7f7b4_row20_col2\" class=\"data row20 col2\" >20.000000</td>\n",
       "      <td id=\"T_7f7b4_row20_col3\" class=\"data row20 col3\" >350</td>\n",
       "    </tr>\n",
       "    <tr>\n",
       "      <th id=\"T_7f7b4_level0_row21\" class=\"row_heading level0 row21\" >21</th>\n",
       "      <td id=\"T_7f7b4_row21_col0\" class=\"data row21 col0\" >0</td>\n",
       "      <td id=\"T_7f7b4_row21_col1\" class=\"data row21 col1\" >male</td>\n",
       "      <td id=\"T_7f7b4_row21_col2\" class=\"data row21 col2\" >25.000000</td>\n",
       "      <td id=\"T_7f7b4_row21_col3\" class=\"data row21 col3\" >553</td>\n",
       "    </tr>\n",
       "    <tr>\n",
       "      <th id=\"T_7f7b4_level0_row22\" class=\"row_heading level0 row22\" >22</th>\n",
       "      <td id=\"T_7f7b4_row22_col0\" class=\"data row22 col0\" >0</td>\n",
       "      <td id=\"T_7f7b4_row22_col1\" class=\"data row22 col1\" >male</td>\n",
       "      <td id=\"T_7f7b4_row22_col2\" class=\"data row22 col2\" >30.000000</td>\n",
       "      <td id=\"T_7f7b4_row22_col3\" class=\"data row22 col3\" >943</td>\n",
       "    </tr>\n",
       "    <tr>\n",
       "      <th id=\"T_7f7b4_level0_row23\" class=\"row_heading level0 row23\" >23</th>\n",
       "      <td id=\"T_7f7b4_row23_col0\" class=\"data row23 col0\" >0</td>\n",
       "      <td id=\"T_7f7b4_row23_col1\" class=\"data row23 col1\" >male</td>\n",
       "      <td id=\"T_7f7b4_row23_col2\" class=\"data row23 col2\" >35.000000</td>\n",
       "      <td id=\"T_7f7b4_row23_col3\" class=\"data row23 col3\" >1297</td>\n",
       "    </tr>\n",
       "    <tr>\n",
       "      <th id=\"T_7f7b4_level0_row24\" class=\"row_heading level0 row24\" >24</th>\n",
       "      <td id=\"T_7f7b4_row24_col0\" class=\"data row24 col0\" >0</td>\n",
       "      <td id=\"T_7f7b4_row24_col1\" class=\"data row24 col1\" >male</td>\n",
       "      <td id=\"T_7f7b4_row24_col2\" class=\"data row24 col2\" >40.000000</td>\n",
       "      <td id=\"T_7f7b4_row24_col3\" class=\"data row24 col3\" >1764</td>\n",
       "    </tr>\n",
       "    <tr>\n",
       "      <th id=\"T_7f7b4_level0_row25\" class=\"row_heading level0 row25\" >25</th>\n",
       "      <td id=\"T_7f7b4_row25_col0\" class=\"data row25 col0\" >0</td>\n",
       "      <td id=\"T_7f7b4_row25_col1\" class=\"data row25 col1\" >male</td>\n",
       "      <td id=\"T_7f7b4_row25_col2\" class=\"data row25 col2\" >45.000000</td>\n",
       "      <td id=\"T_7f7b4_row25_col3\" class=\"data row25 col3\" >2477</td>\n",
       "    </tr>\n",
       "    <tr>\n",
       "      <th id=\"T_7f7b4_level0_row26\" class=\"row_heading level0 row26\" >26</th>\n",
       "      <td id=\"T_7f7b4_row26_col0\" class=\"data row26 col0\" >0</td>\n",
       "      <td id=\"T_7f7b4_row26_col1\" class=\"data row26 col1\" >male</td>\n",
       "      <td id=\"T_7f7b4_row26_col2\" class=\"data row26 col2\" >50.000000</td>\n",
       "      <td id=\"T_7f7b4_row26_col3\" class=\"data row26 col3\" >2153</td>\n",
       "    </tr>\n",
       "    <tr>\n",
       "      <th id=\"T_7f7b4_level0_row27\" class=\"row_heading level0 row27\" >27</th>\n",
       "      <td id=\"T_7f7b4_row27_col0\" class=\"data row27 col0\" >0</td>\n",
       "      <td id=\"T_7f7b4_row27_col1\" class=\"data row27 col1\" >male</td>\n",
       "      <td id=\"T_7f7b4_row27_col2\" class=\"data row27 col2\" >55.000000</td>\n",
       "      <td id=\"T_7f7b4_row27_col3\" class=\"data row27 col3\" >1805</td>\n",
       "    </tr>\n",
       "    <tr>\n",
       "      <th id=\"T_7f7b4_level0_row28\" class=\"row_heading level0 row28\" >28</th>\n",
       "      <td id=\"T_7f7b4_row28_col0\" class=\"data row28 col0\" >0</td>\n",
       "      <td id=\"T_7f7b4_row28_col1\" class=\"data row28 col1\" >male</td>\n",
       "      <td id=\"T_7f7b4_row28_col2\" class=\"data row28 col2\" >60.000000</td>\n",
       "      <td id=\"T_7f7b4_row28_col3\" class=\"data row28 col3\" >1720</td>\n",
       "    </tr>\n",
       "    <tr>\n",
       "      <th id=\"T_7f7b4_level0_row29\" class=\"row_heading level0 row29\" >29</th>\n",
       "      <td id=\"T_7f7b4_row29_col0\" class=\"data row29 col0\" >0</td>\n",
       "      <td id=\"T_7f7b4_row29_col1\" class=\"data row29 col1\" >male</td>\n",
       "      <td id=\"T_7f7b4_row29_col2\" class=\"data row29 col2\" >65.000000</td>\n",
       "      <td id=\"T_7f7b4_row29_col3\" class=\"data row29 col3\" >1310</td>\n",
       "    </tr>\n",
       "    <tr>\n",
       "      <th id=\"T_7f7b4_level0_row30\" class=\"row_heading level0 row30\" >30</th>\n",
       "      <td id=\"T_7f7b4_row30_col0\" class=\"data row30 col0\" >0</td>\n",
       "      <td id=\"T_7f7b4_row30_col1\" class=\"data row30 col1\" >male</td>\n",
       "      <td id=\"T_7f7b4_row30_col2\" class=\"data row30 col2\" >70.000000</td>\n",
       "      <td id=\"T_7f7b4_row30_col3\" class=\"data row30 col3\" >1342</td>\n",
       "    </tr>\n",
       "    <tr>\n",
       "      <th id=\"T_7f7b4_level0_row31\" class=\"row_heading level0 row31\" >31</th>\n",
       "      <td id=\"T_7f7b4_row31_col0\" class=\"data row31 col0\" >0</td>\n",
       "      <td id=\"T_7f7b4_row31_col1\" class=\"data row31 col1\" >male</td>\n",
       "      <td id=\"T_7f7b4_row31_col2\" class=\"data row31 col2\" >75.000000</td>\n",
       "      <td id=\"T_7f7b4_row31_col3\" class=\"data row31 col3\" >605</td>\n",
       "    </tr>\n",
       "    <tr>\n",
       "      <th id=\"T_7f7b4_level0_row32\" class=\"row_heading level0 row32\" >32</th>\n",
       "      <td id=\"T_7f7b4_row32_col0\" class=\"data row32 col0\" >0</td>\n",
       "      <td id=\"T_7f7b4_row32_col1\" class=\"data row32 col1\" >male</td>\n",
       "      <td id=\"T_7f7b4_row32_col2\" class=\"data row32 col2\" >80.000000</td>\n",
       "      <td id=\"T_7f7b4_row32_col3\" class=\"data row32 col3\" >244</td>\n",
       "    </tr>\n",
       "    <tr>\n",
       "      <th id=\"T_7f7b4_level0_row33\" class=\"row_heading level0 row33\" >33</th>\n",
       "      <td id=\"T_7f7b4_row33_col0\" class=\"data row33 col0\" >0</td>\n",
       "      <td id=\"T_7f7b4_row33_col1\" class=\"data row33 col1\" >male</td>\n",
       "      <td id=\"T_7f7b4_row33_col2\" class=\"data row33 col2\" >85.000000</td>\n",
       "      <td id=\"T_7f7b4_row33_col3\" class=\"data row33 col3\" >79</td>\n",
       "    </tr>\n",
       "    <tr>\n",
       "      <th id=\"T_7f7b4_level0_row34\" class=\"row_heading level0 row34\" >34</th>\n",
       "      <td id=\"T_7f7b4_row34_col0\" class=\"data row34 col0\" >0</td>\n",
       "      <td id=\"T_7f7b4_row34_col1\" class=\"data row34 col1\" >male</td>\n",
       "      <td id=\"T_7f7b4_row34_col2\" class=\"data row34 col2\" >90.000000</td>\n",
       "      <td id=\"T_7f7b4_row34_col3\" class=\"data row34 col3\" >12</td>\n",
       "    </tr>\n",
       "    <tr>\n",
       "      <th id=\"T_7f7b4_level0_row35\" class=\"row_heading level0 row35\" >35</th>\n",
       "      <td id=\"T_7f7b4_row35_col0\" class=\"data row35 col0\" >1</td>\n",
       "      <td id=\"T_7f7b4_row35_col1\" class=\"data row35 col1\" >female</td>\n",
       "      <td id=\"T_7f7b4_row35_col2\" class=\"data row35 col2\" >15.000000</td>\n",
       "      <td id=\"T_7f7b4_row35_col3\" class=\"data row35 col3\" >2</td>\n",
       "    </tr>\n",
       "    <tr>\n",
       "      <th id=\"T_7f7b4_level0_row36\" class=\"row_heading level0 row36\" >36</th>\n",
       "      <td id=\"T_7f7b4_row36_col0\" class=\"data row36 col0\" >1</td>\n",
       "      <td id=\"T_7f7b4_row36_col1\" class=\"data row36 col1\" >female</td>\n",
       "      <td id=\"T_7f7b4_row36_col2\" class=\"data row36 col2\" >20.000000</td>\n",
       "      <td id=\"T_7f7b4_row36_col3\" class=\"data row36 col3\" >3</td>\n",
       "    </tr>\n",
       "    <tr>\n",
       "      <th id=\"T_7f7b4_level0_row37\" class=\"row_heading level0 row37\" >37</th>\n",
       "      <td id=\"T_7f7b4_row37_col0\" class=\"data row37 col0\" >1</td>\n",
       "      <td id=\"T_7f7b4_row37_col1\" class=\"data row37 col1\" >female</td>\n",
       "      <td id=\"T_7f7b4_row37_col2\" class=\"data row37 col2\" >25.000000</td>\n",
       "      <td id=\"T_7f7b4_row37_col3\" class=\"data row37 col3\" >4</td>\n",
       "    </tr>\n",
       "    <tr>\n",
       "      <th id=\"T_7f7b4_level0_row38\" class=\"row_heading level0 row38\" >38</th>\n",
       "      <td id=\"T_7f7b4_row38_col0\" class=\"data row38 col0\" >1</td>\n",
       "      <td id=\"T_7f7b4_row38_col1\" class=\"data row38 col1\" >female</td>\n",
       "      <td id=\"T_7f7b4_row38_col2\" class=\"data row38 col2\" >30.000000</td>\n",
       "      <td id=\"T_7f7b4_row38_col3\" class=\"data row38 col3\" >7</td>\n",
       "    </tr>\n",
       "    <tr>\n",
       "      <th id=\"T_7f7b4_level0_row39\" class=\"row_heading level0 row39\" >39</th>\n",
       "      <td id=\"T_7f7b4_row39_col0\" class=\"data row39 col0\" >1</td>\n",
       "      <td id=\"T_7f7b4_row39_col1\" class=\"data row39 col1\" >female</td>\n",
       "      <td id=\"T_7f7b4_row39_col2\" class=\"data row39 col2\" >35.000000</td>\n",
       "      <td id=\"T_7f7b4_row39_col3\" class=\"data row39 col3\" >14</td>\n",
       "    </tr>\n",
       "    <tr>\n",
       "      <th id=\"T_7f7b4_level0_row40\" class=\"row_heading level0 row40\" >40</th>\n",
       "      <td id=\"T_7f7b4_row40_col0\" class=\"data row40 col0\" >1</td>\n",
       "      <td id=\"T_7f7b4_row40_col1\" class=\"data row40 col1\" >female</td>\n",
       "      <td id=\"T_7f7b4_row40_col2\" class=\"data row40 col2\" >40.000000</td>\n",
       "      <td id=\"T_7f7b4_row40_col3\" class=\"data row40 col3\" >11</td>\n",
       "    </tr>\n",
       "    <tr>\n",
       "      <th id=\"T_7f7b4_level0_row41\" class=\"row_heading level0 row41\" >41</th>\n",
       "      <td id=\"T_7f7b4_row41_col0\" class=\"data row41 col0\" >1</td>\n",
       "      <td id=\"T_7f7b4_row41_col1\" class=\"data row41 col1\" >female</td>\n",
       "      <td id=\"T_7f7b4_row41_col2\" class=\"data row41 col2\" >45.000000</td>\n",
       "      <td id=\"T_7f7b4_row41_col3\" class=\"data row41 col3\" >24</td>\n",
       "    </tr>\n",
       "    <tr>\n",
       "      <th id=\"T_7f7b4_level0_row42\" class=\"row_heading level0 row42\" >42</th>\n",
       "      <td id=\"T_7f7b4_row42_col0\" class=\"data row42 col0\" >1</td>\n",
       "      <td id=\"T_7f7b4_row42_col1\" class=\"data row42 col1\" >female</td>\n",
       "      <td id=\"T_7f7b4_row42_col2\" class=\"data row42 col2\" >50.000000</td>\n",
       "      <td id=\"T_7f7b4_row42_col3\" class=\"data row42 col3\" >18</td>\n",
       "    </tr>\n",
       "    <tr>\n",
       "      <th id=\"T_7f7b4_level0_row43\" class=\"row_heading level0 row43\" >43</th>\n",
       "      <td id=\"T_7f7b4_row43_col0\" class=\"data row43 col0\" >1</td>\n",
       "      <td id=\"T_7f7b4_row43_col1\" class=\"data row43 col1\" >female</td>\n",
       "      <td id=\"T_7f7b4_row43_col2\" class=\"data row43 col2\" >55.000000</td>\n",
       "      <td id=\"T_7f7b4_row43_col3\" class=\"data row43 col3\" >34</td>\n",
       "    </tr>\n",
       "    <tr>\n",
       "      <th id=\"T_7f7b4_level0_row44\" class=\"row_heading level0 row44\" >44</th>\n",
       "      <td id=\"T_7f7b4_row44_col0\" class=\"data row44 col0\" >1</td>\n",
       "      <td id=\"T_7f7b4_row44_col1\" class=\"data row44 col1\" >female</td>\n",
       "      <td id=\"T_7f7b4_row44_col2\" class=\"data row44 col2\" >60.000000</td>\n",
       "      <td id=\"T_7f7b4_row44_col3\" class=\"data row44 col3\" >19</td>\n",
       "    </tr>\n",
       "    <tr>\n",
       "      <th id=\"T_7f7b4_level0_row45\" class=\"row_heading level0 row45\" >45</th>\n",
       "      <td id=\"T_7f7b4_row45_col0\" class=\"data row45 col0\" >1</td>\n",
       "      <td id=\"T_7f7b4_row45_col1\" class=\"data row45 col1\" >female</td>\n",
       "      <td id=\"T_7f7b4_row45_col2\" class=\"data row45 col2\" >65.000000</td>\n",
       "      <td id=\"T_7f7b4_row45_col3\" class=\"data row45 col3\" >32</td>\n",
       "    </tr>\n",
       "    <tr>\n",
       "      <th id=\"T_7f7b4_level0_row46\" class=\"row_heading level0 row46\" >46</th>\n",
       "      <td id=\"T_7f7b4_row46_col0\" class=\"data row46 col0\" >1</td>\n",
       "      <td id=\"T_7f7b4_row46_col1\" class=\"data row46 col1\" >female</td>\n",
       "      <td id=\"T_7f7b4_row46_col2\" class=\"data row46 col2\" >70.000000</td>\n",
       "      <td id=\"T_7f7b4_row46_col3\" class=\"data row46 col3\" >12</td>\n",
       "    </tr>\n",
       "    <tr>\n",
       "      <th id=\"T_7f7b4_level0_row47\" class=\"row_heading level0 row47\" >47</th>\n",
       "      <td id=\"T_7f7b4_row47_col0\" class=\"data row47 col0\" >1</td>\n",
       "      <td id=\"T_7f7b4_row47_col1\" class=\"data row47 col1\" >female</td>\n",
       "      <td id=\"T_7f7b4_row47_col2\" class=\"data row47 col2\" >75.000000</td>\n",
       "      <td id=\"T_7f7b4_row47_col3\" class=\"data row47 col3\" >16</td>\n",
       "    </tr>\n",
       "    <tr>\n",
       "      <th id=\"T_7f7b4_level0_row48\" class=\"row_heading level0 row48\" >48</th>\n",
       "      <td id=\"T_7f7b4_row48_col0\" class=\"data row48 col0\" >1</td>\n",
       "      <td id=\"T_7f7b4_row48_col1\" class=\"data row48 col1\" >female</td>\n",
       "      <td id=\"T_7f7b4_row48_col2\" class=\"data row48 col2\" >80.000000</td>\n",
       "      <td id=\"T_7f7b4_row48_col3\" class=\"data row48 col3\" >11</td>\n",
       "    </tr>\n",
       "    <tr>\n",
       "      <th id=\"T_7f7b4_level0_row49\" class=\"row_heading level0 row49\" >49</th>\n",
       "      <td id=\"T_7f7b4_row49_col0\" class=\"data row49 col0\" >1</td>\n",
       "      <td id=\"T_7f7b4_row49_col1\" class=\"data row49 col1\" >female</td>\n",
       "      <td id=\"T_7f7b4_row49_col2\" class=\"data row49 col2\" >85.000000</td>\n",
       "      <td id=\"T_7f7b4_row49_col3\" class=\"data row49 col3\" >5</td>\n",
       "    </tr>\n",
       "    <tr>\n",
       "      <th id=\"T_7f7b4_level0_row50\" class=\"row_heading level0 row50\" >50</th>\n",
       "      <td id=\"T_7f7b4_row50_col0\" class=\"data row50 col0\" >1</td>\n",
       "      <td id=\"T_7f7b4_row50_col1\" class=\"data row50 col1\" >female</td>\n",
       "      <td id=\"T_7f7b4_row50_col2\" class=\"data row50 col2\" >90.000000</td>\n",
       "      <td id=\"T_7f7b4_row50_col3\" class=\"data row50 col3\" >8</td>\n",
       "    </tr>\n",
       "    <tr>\n",
       "      <th id=\"T_7f7b4_level0_row51\" class=\"row_heading level0 row51\" >51</th>\n",
       "      <td id=\"T_7f7b4_row51_col0\" class=\"data row51 col0\" >1</td>\n",
       "      <td id=\"T_7f7b4_row51_col1\" class=\"data row51 col1\" >male</td>\n",
       "      <td id=\"T_7f7b4_row51_col2\" class=\"data row51 col2\" >20.000000</td>\n",
       "      <td id=\"T_7f7b4_row51_col3\" class=\"data row51 col3\" >3</td>\n",
       "    </tr>\n",
       "    <tr>\n",
       "      <th id=\"T_7f7b4_level0_row52\" class=\"row_heading level0 row52\" >52</th>\n",
       "      <td id=\"T_7f7b4_row52_col0\" class=\"data row52 col0\" >1</td>\n",
       "      <td id=\"T_7f7b4_row52_col1\" class=\"data row52 col1\" >male</td>\n",
       "      <td id=\"T_7f7b4_row52_col2\" class=\"data row52 col2\" >25.000000</td>\n",
       "      <td id=\"T_7f7b4_row52_col3\" class=\"data row52 col3\" >12</td>\n",
       "    </tr>\n",
       "    <tr>\n",
       "      <th id=\"T_7f7b4_level0_row53\" class=\"row_heading level0 row53\" >53</th>\n",
       "      <td id=\"T_7f7b4_row53_col0\" class=\"data row53 col0\" >1</td>\n",
       "      <td id=\"T_7f7b4_row53_col1\" class=\"data row53 col1\" >male</td>\n",
       "      <td id=\"T_7f7b4_row53_col2\" class=\"data row53 col2\" >30.000000</td>\n",
       "      <td id=\"T_7f7b4_row53_col3\" class=\"data row53 col3\" >17</td>\n",
       "    </tr>\n",
       "    <tr>\n",
       "      <th id=\"T_7f7b4_level0_row54\" class=\"row_heading level0 row54\" >54</th>\n",
       "      <td id=\"T_7f7b4_row54_col0\" class=\"data row54 col0\" >1</td>\n",
       "      <td id=\"T_7f7b4_row54_col1\" class=\"data row54 col1\" >male</td>\n",
       "      <td id=\"T_7f7b4_row54_col2\" class=\"data row54 col2\" >35.000000</td>\n",
       "      <td id=\"T_7f7b4_row54_col3\" class=\"data row54 col3\" >11</td>\n",
       "    </tr>\n",
       "    <tr>\n",
       "      <th id=\"T_7f7b4_level0_row55\" class=\"row_heading level0 row55\" >55</th>\n",
       "      <td id=\"T_7f7b4_row55_col0\" class=\"data row55 col0\" >1</td>\n",
       "      <td id=\"T_7f7b4_row55_col1\" class=\"data row55 col1\" >male</td>\n",
       "      <td id=\"T_7f7b4_row55_col2\" class=\"data row55 col2\" >40.000000</td>\n",
       "      <td id=\"T_7f7b4_row55_col3\" class=\"data row55 col3\" >13</td>\n",
       "    </tr>\n",
       "    <tr>\n",
       "      <th id=\"T_7f7b4_level0_row56\" class=\"row_heading level0 row56\" >56</th>\n",
       "      <td id=\"T_7f7b4_row56_col0\" class=\"data row56 col0\" >1</td>\n",
       "      <td id=\"T_7f7b4_row56_col1\" class=\"data row56 col1\" >male</td>\n",
       "      <td id=\"T_7f7b4_row56_col2\" class=\"data row56 col2\" >45.000000</td>\n",
       "      <td id=\"T_7f7b4_row56_col3\" class=\"data row56 col3\" >30</td>\n",
       "    </tr>\n",
       "    <tr>\n",
       "      <th id=\"T_7f7b4_level0_row57\" class=\"row_heading level0 row57\" >57</th>\n",
       "      <td id=\"T_7f7b4_row57_col0\" class=\"data row57 col0\" >1</td>\n",
       "      <td id=\"T_7f7b4_row57_col1\" class=\"data row57 col1\" >male</td>\n",
       "      <td id=\"T_7f7b4_row57_col2\" class=\"data row57 col2\" >50.000000</td>\n",
       "      <td id=\"T_7f7b4_row57_col3\" class=\"data row57 col3\" >35</td>\n",
       "    </tr>\n",
       "    <tr>\n",
       "      <th id=\"T_7f7b4_level0_row58\" class=\"row_heading level0 row58\" >58</th>\n",
       "      <td id=\"T_7f7b4_row58_col0\" class=\"data row58 col0\" >1</td>\n",
       "      <td id=\"T_7f7b4_row58_col1\" class=\"data row58 col1\" >male</td>\n",
       "      <td id=\"T_7f7b4_row58_col2\" class=\"data row58 col2\" >55.000000</td>\n",
       "      <td id=\"T_7f7b4_row58_col3\" class=\"data row58 col3\" >30</td>\n",
       "    </tr>\n",
       "    <tr>\n",
       "      <th id=\"T_7f7b4_level0_row59\" class=\"row_heading level0 row59\" >59</th>\n",
       "      <td id=\"T_7f7b4_row59_col0\" class=\"data row59 col0\" >1</td>\n",
       "      <td id=\"T_7f7b4_row59_col1\" class=\"data row59 col1\" >male</td>\n",
       "      <td id=\"T_7f7b4_row59_col2\" class=\"data row59 col2\" >60.000000</td>\n",
       "      <td id=\"T_7f7b4_row59_col3\" class=\"data row59 col3\" >46</td>\n",
       "    </tr>\n",
       "    <tr>\n",
       "      <th id=\"T_7f7b4_level0_row60\" class=\"row_heading level0 row60\" >60</th>\n",
       "      <td id=\"T_7f7b4_row60_col0\" class=\"data row60 col0\" >1</td>\n",
       "      <td id=\"T_7f7b4_row60_col1\" class=\"data row60 col1\" >male</td>\n",
       "      <td id=\"T_7f7b4_row60_col2\" class=\"data row60 col2\" >65.000000</td>\n",
       "      <td id=\"T_7f7b4_row60_col3\" class=\"data row60 col3\" >38</td>\n",
       "    </tr>\n",
       "    <tr>\n",
       "      <th id=\"T_7f7b4_level0_row61\" class=\"row_heading level0 row61\" >61</th>\n",
       "      <td id=\"T_7f7b4_row61_col0\" class=\"data row61 col0\" >1</td>\n",
       "      <td id=\"T_7f7b4_row61_col1\" class=\"data row61 col1\" >male</td>\n",
       "      <td id=\"T_7f7b4_row61_col2\" class=\"data row61 col2\" >70.000000</td>\n",
       "      <td id=\"T_7f7b4_row61_col3\" class=\"data row61 col3\" >46</td>\n",
       "    </tr>\n",
       "    <tr>\n",
       "      <th id=\"T_7f7b4_level0_row62\" class=\"row_heading level0 row62\" >62</th>\n",
       "      <td id=\"T_7f7b4_row62_col0\" class=\"data row62 col0\" >1</td>\n",
       "      <td id=\"T_7f7b4_row62_col1\" class=\"data row62 col1\" >male</td>\n",
       "      <td id=\"T_7f7b4_row62_col2\" class=\"data row62 col2\" >75.000000</td>\n",
       "      <td id=\"T_7f7b4_row62_col3\" class=\"data row62 col3\" >46</td>\n",
       "    </tr>\n",
       "    <tr>\n",
       "      <th id=\"T_7f7b4_level0_row63\" class=\"row_heading level0 row63\" >63</th>\n",
       "      <td id=\"T_7f7b4_row63_col0\" class=\"data row63 col0\" >1</td>\n",
       "      <td id=\"T_7f7b4_row63_col1\" class=\"data row63 col1\" >male</td>\n",
       "      <td id=\"T_7f7b4_row63_col2\" class=\"data row63 col2\" >80.000000</td>\n",
       "      <td id=\"T_7f7b4_row63_col3\" class=\"data row63 col3\" >25</td>\n",
       "    </tr>\n",
       "    <tr>\n",
       "      <th id=\"T_7f7b4_level0_row64\" class=\"row_heading level0 row64\" >64</th>\n",
       "      <td id=\"T_7f7b4_row64_col0\" class=\"data row64 col0\" >1</td>\n",
       "      <td id=\"T_7f7b4_row64_col1\" class=\"data row64 col1\" >male</td>\n",
       "      <td id=\"T_7f7b4_row64_col2\" class=\"data row64 col2\" >85.000000</td>\n",
       "      <td id=\"T_7f7b4_row64_col3\" class=\"data row64 col3\" >4</td>\n",
       "    </tr>\n",
       "    <tr>\n",
       "      <th id=\"T_7f7b4_level0_row65\" class=\"row_heading level0 row65\" >65</th>\n",
       "      <td id=\"T_7f7b4_row65_col0\" class=\"data row65 col0\" >1</td>\n",
       "      <td id=\"T_7f7b4_row65_col1\" class=\"data row65 col1\" >male</td>\n",
       "      <td id=\"T_7f7b4_row65_col2\" class=\"data row65 col2\" >90.000000</td>\n",
       "      <td id=\"T_7f7b4_row65_col3\" class=\"data row65 col3\" >8</td>\n",
       "    </tr>\n",
       "  </tbody>\n",
       "</table>\n"
      ],
      "text/plain": [
       "<pandas.io.formats.style.Styler at 0x1e1f8097730>"
      ]
     },
     "execution_count": 20,
     "metadata": {},
     "output_type": "execute_result"
    }
   ],
   "source": [
    "z=train_df_2020.groupby(['target','sex','age_approx'])['benign_malignant'].count().to_frame().reset_index()\n",
    "z.style.background_gradient(cmap='Reds')  "
   ]
  },
  {
   "cell_type": "code",
   "execution_count": 21,
   "metadata": {
    "colab": {
     "base_uri": "https://localhost:8080/",
     "height": 400
    },
    "executionInfo": {
     "elapsed": 1202,
     "status": "ok",
     "timestamp": 1618105140779,
     "user": {
      "displayName": "Yogesh Krishnakumar",
      "photoUrl": "",
      "userId": "03558106256612266348"
     },
     "user_tz": -600
    },
    "id": "IWDm55HLHbmO",
    "outputId": "edfedf35-ee43-4843-979b-4855ff8c82d6"
   },
   "outputs": [
    {
     "data": {
      "text/plain": [
       "Text(0.5, 28.999999999999986, 'benign:0 vs malignant:1')"
      ]
     },
     "execution_count": 21,
     "metadata": {},
     "output_type": "execute_result"
    },
    {
     "data": {
      "image/png": "[encoded data removed]",
      "text/plain": [
       "<Figure size 598x500 with 1 Axes>"
      ]
     },
     "metadata": {},
     "output_type": "display_data"
    }
   ],
   "source": [
    "sns.catplot(x='target',y='benign_malignant', hue='sex',data=z,kind='bar')\n",
    "plt.ylabel('Count')\n",
    "plt.xlabel('benign:0 vs malignant:1')"
   ]
  },
  {
   "cell_type": "markdown",
   "metadata": {
    "id": "Zx-Ze8LgKA7l"
   },
   "source": [
    "# Processesd Data Graphical Representation"
   ]
  },
  {
   "cell_type": "code",
   "execution_count": 22,
   "metadata": {
    "colab": {
     "base_uri": "https://localhost:8080/",
     "height": 383
    },
    "executionInfo": {
     "elapsed": 1724,
     "status": "ok",
     "timestamp": 1618105165776,
     "user": {
      "displayName": "Yogesh Krishnakumar",
      "photoUrl": "",
      "userId": "03558106256612266348"
     },
     "user_tz": -600
    },
    "id": "4VKkcSsOKdZt",
    "outputId": "15014189-0302-4564-95d1-f049ba70fa5a"
   },
   "outputs": [
    {
     "data": {
      "image/png": "[encoded data removed]",
      "text/plain": [
       "<Figure size 511.111x500 with 1 Axes>"
      ]
     },
     "metadata": {},
     "output_type": "display_data"
    }
   ],
   "source": [
    "ax = sns.catplot(x=\"diagnosis\",y=\"age_approx\",data=Processed_withDetails_df,kind='bar')"
   ]
  },
  {
   "cell_type": "code",
   "execution_count": 23,
   "metadata": {
    "colab": {
     "base_uri": "https://localhost:8080/",
     "height": 279
    },
    "executionInfo": {
     "elapsed": 1465,
     "status": "ok",
     "timestamp": 1618105280290,
     "user": {
      "displayName": "Yogesh Krishnakumar",
      "photoUrl": "",
      "userId": "03558106256612266348"
     },
     "user_tz": -600
    },
    "id": "KkJUdyyoY9Zw",
    "outputId": "50e987f7-63e6-4a00-9706-f636cd2868fd"
   },
   "outputs": [
    {
     "data": {
      "image/png": "[encoded data removed]",
      "text/plain": [
       "<Figure size 640x480 with 1 Axes>"
      ]
     },
     "metadata": {},
     "output_type": "display_data"
    }
   ],
   "source": [
    "ax = sns.countplot(y=\"diagnosis\",data=Processed_2018to2020_df)"
   ]
  },
  {
   "cell_type": "code",
   "execution_count": 24,
   "metadata": {
    "colab": {
     "base_uri": "https://localhost:8080/",
     "height": 279
    },
    "executionInfo": {
     "elapsed": 1170,
     "status": "ok",
     "timestamp": 1618110408124,
     "user": {
      "displayName": "Yogesh Krishnakumar",
      "photoUrl": "",
      "userId": "03558106256612266348"
     },
     "user_tz": -600
    },
    "id": "w6rwENnN5Pcv",
    "outputId": "7381fd4c-6693-4842-ac5c-bc2bcba2105f"
   },
   "outputs": [
    {
     "data": {
      "text/plain": [
       "[Text(0.5, 0, 'Target'), Text(0, 0.5, 'Count')]"
      ]
     },
     "execution_count": 24,
     "metadata": {},
     "output_type": "execute_result"
    },
    {
     "data": {
      "image/png": "[encoded data removed]",
      "text/plain": [
       "<Figure size 640x480 with 1 Axes>"
      ]
     },
     "metadata": {},
     "output_type": "display_data"
    }
   ],
   "source": [
    "ax2 = sns.countplot(x=\"target\",data=train_df_2020)\r\n",
    "ax2.set(xlabel='Target', ylabel='Count')"
   ]
  }
 ],
 "metadata": {
  "colab": {
   "collapsed_sections": [],
   "name": "Exploratory Data Analysis.ipynb",
   "provenance": []
  },
  "interpreter": {
   "hash": "d74d7db319bafd33f7c656d0a982f55c49dd2aede06f5b3f0df9d1774c187a88"
  },
  "kernelspec": {
   "display_name": "Python 3 (ipykernel)",
   "language": "python",
   "name": "python3"
  },
  "language_info": {
   "codemirror_mode": {
    "name": "ipython",
    "version": 3
   },
   "file_extension": ".py",
   "mimetype": "text/x-python",
   "name": "python",
   "nbconvert_exporter": "python",
   "pygments_lexer": "ipython3",
   "version": "3.8.18"
  }
 },
 "nbformat": 4,
 "nbformat_minor": 4
}
